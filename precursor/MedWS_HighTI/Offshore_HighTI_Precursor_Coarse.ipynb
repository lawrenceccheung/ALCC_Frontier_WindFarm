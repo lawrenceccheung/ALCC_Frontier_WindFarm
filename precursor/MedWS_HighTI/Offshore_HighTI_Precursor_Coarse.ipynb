{
 "cells": [
  {
   "cell_type": "markdown",
   "metadata": {},
   "source": [
    "# Sample Offshore Precursor"
   ]
  },
  {
   "cell_type": "code",
   "execution_count": 1,
   "metadata": {},
   "outputs": [],
   "source": [
    "# Load the modules\n",
    "amrwindfedir = '/ccs/proj/cfd162/lcheung/amrwind-frontend/' #'/projects/wind_uq/lcheung/amrwind-frontend'         # official version\n",
    "import sys, os\n",
    "sys.path.insert(1, amrwindfedir)\n",
    "\n",
    "# Load the libraries\n",
    "import amrwind_frontend as amrwind\n",
    "import matplotlib.pyplot    as plt\n",
    "import numpy as np\n",
    "\n",
    "# Also ignore warnings\n",
    "import warnings\n",
    "warnings.filterwarnings('ignore')\n",
    "\n",
    "# Make all plots inline \n",
    "%matplotlib inline\n",
    "\n",
    "\n",
    "# Needed for headless mode\n",
    "os.environ['DISPLAY']=':199'"
   ]
  },
  {
   "cell_type": "code",
   "execution_count": 2,
   "metadata": {},
   "outputs": [],
   "source": [
    "# Start the case\n",
    "case = amrwind.MyApp.init_nogui()"
   ]
  },
  {
   "cell_type": "code",
   "execution_count": 3,
   "metadata": {},
   "outputs": [],
   "source": [
    "# Set the time constants\n",
    "case.setAMRWindInput('time.stop_time', 30000.0)\n",
    "case.setAMRWindInput('time.max_step',  -1)\n",
    "\n",
    "case.setAMRWindInput('time.fixed_dt',  0.5)\n",
    "case.setAMRWindInput('time.checkpoint_interval',  5000)"
   ]
  },
  {
   "cell_type": "code",
   "execution_count": 4,
   "metadata": {},
   "outputs": [],
   "source": [
    "# Set some basic parameters\n",
    "case.setAMRWindInput('incflo.physics',      ['ABL'])  # Must have ABL physics to do ABL calculations\n",
    "case.setAMRWindInput('incflo.verbose',      3)        # This is optional, verbose=3 means more info in the output logs\n",
    "case.setAMRWindInput('io.check_file',       'chk')    # What to name the checkpoint files\n",
    "\n",
    "case.setAMRWindInput('incflo.use_godunov',  True)       # Always use a godunov scheme\n",
    "case.setAMRWindInput('incflo.godunov_type', 'weno_z')   # Use 'weno_z' \n",
    "\n",
    "case.setAMRWindInput('turbulence.model',    ['OneEqKsgsM84'])    # One equation k-sgs subgrid scale model\n",
    "case.setAMRWindInput('TKE.source_terms',    ['KsgsM84Src'])      # The corresponding source term\n",
    "\n",
    "case.setAMRWindInput('transport.viscosity', 1.771e-05)           # dynamic viscosity, based on median air temperature of 284.47 K from 2 m above E06, units Pa-s\n",
    "case.setAMRWindInput('incflo.density',      1.2456)                # density, based on 1017.13*100./(284.47)/287.058 where 1017.13 is median air pressure from 2 m above E06 and 284.47 is median air temperature from 2 m above E06, units kg/m^3"
   ]
  },
  {
   "cell_type": "code",
   "execution_count": 5,
   "metadata": {},
   "outputs": [],
   "source": [
    "# Set the wind speed and direction\n",
    "case.setAMRWindInput('useWSDir', True)                           # Allows you to specify wind speed + wind direction \n",
    "case.setAMRWindInput('ABL_windspeed', 9.0, forcechange=True)     # Wind speed, unites m/s VARY THIS\n",
    "case.setAMRWindInput('ABL_winddir',   270, forcechange=True)     # Wind direction of 225 degrees, from S-W\n",
    "case.ABL_calculateWindVector()"
   ]
  },
  {
   "cell_type": "code",
   "execution_count": 6,
   "metadata": {},
   "outputs": [],
   "source": [
    "# Set some tolerances (leave this alone)\n",
    "tols = \"\"\"\n",
    "nodal_proj.mg_rtol                       = 1e-06               \n",
    "nodal_proj.mg_atol                       = 1e-12               \n",
    "mac_proj.mg_rtol                         = 1e-06               \n",
    "mac_proj.mg_atol                         = 1e-12               \n",
    "diffusion.mg_rtol                        = 1e-06               \n",
    "diffusion.mg_atol                        = 1e-12               \n",
    "temperature_diffusion.mg_rtol            = 1e-10               \n",
    "temperature_diffusion.mg_atol            = 1e-13               \n",
    "\"\"\"\n",
    "case.loadAMRWindInput(tols, string=True);"
   ]
  },
  {
   "cell_type": "code",
   "execution_count": 7,
   "metadata": {},
   "outputs": [],
   "source": [
    "# Sets up the domain and level 0 mesh\n",
    "case.setAMRWindInput('geometry.prob_lo', [   0.0,    0.0, 0.0 ])\n",
    "case.setAMRWindInput('geometry.prob_hi', [7200.0,  4000.0, 2240.0])   # each number must be divisible by 16\n",
    "case.setAMRWindInput('amr.n_cell',       [720,     400,    224]) "
   ]
  },
  {
   "cell_type": "code",
   "execution_count": 8,
   "metadata": {},
   "outputs": [],
   "source": [
    "# This cell sets up boundary conditions\n",
    "case.setAMRWindInput('is_periodicx', True)     # periodic in x\n",
    "case.setAMRWindInput('is_periodicy', True)     # periodic in y\n",
    "case.setAMRWindInput('is_periodicz', False)    # Enforce some boundary conditions in z\n",
    "\n",
    "# Boundary conditions in z\n",
    "case.setAMRWindInput('zlo.type',              'wall_model')          \n",
    "case.setAMRWindInput('zlo.temperature_type',  'wall_model')          \n",
    "case.setAMRWindInput('zlo.tke_type',          'zero_gradient')       \n",
    "case.setAMRWindInput('zhi.type',              'slip_wall')           \n",
    "case.setAMRWindInput('zhi.temperature_type',  'fixed_gradient')      \n",
    "case.setAMRWindInput('zhi.temperature',       0.003) "
   ]
  },
  {
   "cell_type": "code",
   "execution_count": 9,
   "metadata": {
    "collapsed": false,
    "jupyter": {
     "outputs_hidden": false
    }
   },
   "outputs": [
    {
     "name": "stdout",
     "output_type": "stream",
     "text": [
      "CANNOT update: ABLMeanBoussinesq use forcechange=True in setval()\n"
     ]
    }
   ],
   "source": [
    "# Now set up ABL specific forces, parameters, etc.\n",
    "case.setAMRWindInput('ICNS.source_terms',     ['ABLForcing','BoussinesqBuoyancy', 'CoriolisForcing', 'ABLMeanBoussinesq']) # ABLMeanBoussinesq: use this for production runs as you change from periodic boundaries to inflow/outflow boundaries\n",
    "\n",
    "case.setAMRWindInput('ABL.stats_output_frequency',   1)           # Output ABL stats every iteration            \n",
    "case.setAMRWindInput('ABL.stats_output_format',   'netcdf')       # Use netcdf output because that's how we postprocess\n",
    "\n",
    "case.setAMRWindInput('ABLForcing.abl_forcing_height',   150)       # Hub height wind speed you want specify \n",
    "case.setAMRWindInput('ABL.kappa',                       0.4)      # Kolmogorov constant\n",
    "\n",
    "case.setAMRWindInput('ABL.normal_direction',      2)              # vertical is in z\n",
    "case.setAMRWindInput('ABL.surface_roughness_z0',  5.1e-2)           # Surface roughess, VARY THIS\n",
    "case.setAMRWindInput('ABL.reference_temperature', 284.47)        # Median air temperature of 284.47 K from 2 m above E06, units K\n",
    "case.setAMRWindInput('ABL.surface_temp_rate',     0.0)            # d(Temperature)/dt ---> set this to zero for unstable ABL, VARY THIS\n",
    "case.setAMRWindInput('ABL.surface_temp_flux',     0.0320)          # Surface temperature flux (K*m/s) --> Use this for unstable ABL's (ITERATE ON THIS TOO)\n",
    "\n",
    "# Monin-Obukhov parameters (No need to change)\n",
    "case.setAMRWindInput('ABL.mo_beta_m',             16.0)\n",
    "case.setAMRWindInput('ABL.mo_gamma_m',            5.0)\n",
    "case.setAMRWindInput('ABL.mo_gamma_h',            5.0)\n",
    "case.setAMRWindInput('ABL.random_gauss_mean',     0.0)\n",
    "case.setAMRWindInput('ABL.random_gauss_var',      1.0)"
   ]
  },
  {
   "cell_type": "code",
   "execution_count": 10,
   "metadata": {},
   "outputs": [],
   "source": [
    "case.setAMRWindInput('CoriolisForcing.latitude',  50.0)        # latitude of NE buoy: 39.97; latitude of SW buoy: 39.55, VARY THIS\n",
    "case.setAMRWindInput('BoussinesqBuoyancy.reference_temperature', 284.47)    # The reference temperature, Median air temperature of 284.47 K from 2 m above E06, units K\n",
    "# These inputs set up the initial temperature profile (Same as Nalu-Wind temperature profile)\n",
    "case.setAMRWindInput('ABL.temperature_heights', '0       1500.0  1600.0  2250.0')\n",
    "case.setAMRWindInput('ABL.temperature_values',  '284.47  284.47 292.47 294.42')"
   ]
  },
  {
   "cell_type": "code",
   "execution_count": 11,
   "metadata": {},
   "outputs": [],
   "source": [
    "# This is a case where we don't want to use the defaults in amrwind-frontend\n",
    "case.setAMRWindInput('ABL.perturb_velocity', True) # Ken added 12/8/2023\n",
    "case.setAMRWindInput('ABL.perturb_ref_height', 50.0)\n",
    "case.setAMRWindInput('ABL.Uperiods', 7.2)\n",
    "case.setAMRWindInput('ABL.Vperiods', 4.0)\n",
    "case.setAMRWindInput('ABL.deltaU',   1.0)\n",
    "case.setAMRWindInput('ABL.deltaV',   1.0)\n",
    "case.setAMRWindInput('ABL.perturb_temperature', True) # Ken added 12/8/2023\n",
    "case.setAMRWindInput('ABL.theta_amplitude',   None)  # None: sets to default, which is 0.8 K\n",
    "case.setAMRWindInput('ABL.cutoff_height',   None) # None: sets to default, which is 100 m"
   ]
  },
  {
   "cell_type": "code",
   "execution_count": 12,
   "metadata": {},
   "outputs": [],
   "source": [
    "# To set up the sampling output\n",
    "case.setAMRWindInput('time.plot_interval',        5000) \n",
    "\n",
    "## Set up some sampling planes\n",
    "#case.setAMRWindInput('incflo.post_processing',    ['sampling'])            \n",
    "#case.setAMRWindInput('sampling.output_frequency', 1)        \n",
    "#case.setAMRWindInput('sampling.fields',           ['velocity', 'temperature'])"
   ]
  },
  {
   "cell_type": "code",
   "execution_count": 13,
   "metadata": {},
   "outputs": [
    {
     "name": "stdout",
     "output_type": "stream",
     "text": [
      "postprocessing_setup_name: 'samplePlane_'\n",
      "postprocessing_setup_type: 'Sampling'\n",
      "postprocessing_setup_output_frequency: 1000\n",
      "postprocessing_setup_fields: ['velocity', 'tke']\n",
      "postprocessing_setup_averaging_window: None\n",
      "postprocessing_setup_averaging_start_time: None\n",
      "postprocessing_setup_averaging_stop_time: None\n"
     ]
    }
   ],
   "source": [
    "samplePlanePostPro = case.get_default_postprosetupdict()\n",
    "samplePlanePostPro['postprocessing_setup_name'] = 'samplePlane_'\n",
    "samplePlanePostPro['postprocessing_setup_type'] = 'Sampling'\n",
    "samplePlanePostPro['postprocessing_setup_output_frequency'] =  1000\n",
    "samplePlanePostPro['postprocessing_setup_fields']           =  ['velocity','tke']\n",
    "case.add_postprosetup(samplePlanePostPro, verbose=True)\n",
    "\n",
    "sampleplane = case.get_default_samplingdict()\n",
    "\n",
    "sampleplane['sampling_outputto']     = 'samplePlane_'\n",
    "sampleplane['sampling_name']         = 'p_hub'\n",
    "sampleplane['sampling_type']         = 'PlaneSampler'\n",
    "sampleplane['sampling_p_num_points'] = [241,134]\n",
    "sampleplane['sampling_p_origin']     = [0, 0, 0]\n",
    "sampleplane['sampling_p_axis1']      = [7200, 0, 0]\n",
    "sampleplane['sampling_p_axis2']      = [0, 4000, 0]\n",
    "sampleplane['sampling_p_normal']     = [0, 0, 1]      # This is the direction I want to move/offset the planes\n",
    "sampleplane['sampling_p_offsets']    = '150'   # This is how much to offset the planes\n",
    "case.add_sampling(sampleplane)"
   ]
  },
  {
   "cell_type": "code",
   "execution_count": 14,
   "metadata": {},
   "outputs": [
    {
     "name": "stdout",
     "output_type": "stream",
     "text": [
      "postprocessing_setup_name: 'metmast_'\n",
      "postprocessing_setup_type: 'Sampling'\n",
      "postprocessing_setup_output_frequency: 1\n",
      "postprocessing_setup_fields: ['velocity']\n",
      "postprocessing_setup_averaging_window: None\n",
      "postprocessing_setup_averaging_start_time: None\n",
      "postprocessing_setup_averaging_stop_time: None\n"
     ]
    }
   ],
   "source": [
    "# set up met masts\n",
    "metmastpprosetup = case.get_default_postprosetupdict()\n",
    "metmastpprosetup['postprocessing_setup_name'] = 'metmast_'\n",
    "metmastpprosetup['postprocessing_setup_type'] = 'Sampling'\n",
    "metmastpprosetup['postprocessing_setup_output_frequency'] =  1\n",
    "metmastpprosetup['postprocessing_setup_fields']           =  ['velocity']\n",
    "case.add_postprosetup(metmastpprosetup, verbose=True)\n",
    "\n",
    "sampledict = case.get_default_samplingdict()\n",
    "sampledict['sampling_name']     = 'metmast_T1'\n",
    "sampledict['sampling_outputto'] = 'metmast_'\n",
    "sampledict['sampling_type']     = 'LineSampler'\n",
    "sampledict['sampling_l_num_points'] = 150\n",
    "sampledict['sampling_l_start']      = [ 2160, 2000, 0]\n",
    "sampledict['sampling_l_end']        = [ 2160, 2000, 0] + np.array([0, 0, 500])\n",
    "case.add_sampling(sampledict, verbose=False)"
   ]
  },
  {
   "cell_type": "code",
   "execution_count": 15,
   "metadata": {},
   "outputs": [],
   "source": [
    "refinementcsv=\"\"\"\n",
    "# CSV file should have columns with\n",
    "# level, upstream, downstream, lateral, below, above, options\n",
    "level, upstream, downstream, lateral, below, above, options\n",
    "0,     450,       450,      450,    91,    309,   center:specified units:meter centerx:640 centery:640 centerz:91 name:A\n",
    "\"\"\"\n",
    "#case.setAMRWindInput('refine_csvtextbox', refinementcsv)\n",
    "#case.setAMRWindInput('refine_deleteprev', True)"
   ]
  },
  {
   "cell_type": "code",
   "execution_count": 16,
   "metadata": {},
   "outputs": [
    {
     "name": "stdout",
     "output_type": "stream",
     "text": [
      "[]\n"
     ]
    }
   ],
   "source": [
    "#case.refine_createAllZones()\n",
    "# Print out existing list of turbines\n",
    "print(case.listboxpopupwindict['listboxtagging'].getitemlist())"
   ]
  },
  {
   "cell_type": "markdown",
   "metadata": {},
   "source": [
    "## Plot the domain"
   ]
  },
  {
   "cell_type": "code",
   "execution_count": 17,
   "metadata": {
    "collapsed": false,
    "jupyter": {
     "outputs_hidden": false
    }
   },
   "outputs": [
    {
     "data": {
      "image/png": "[encoded data removed]",
      "text/plain": [
       "<Figure size 750x750 with 1 Axes>"
      ]
     },
     "metadata": {},
     "output_type": "display_data"
    }
   ],
   "source": [
    "fig, ax = plt.subplots(figsize=(6,6), facecolor='w', dpi=125)\n",
    "\n",
    "# Set any additional items to plot\n",
    "case.popup_storteddata['plotdomain']['plot_refineboxes']     = case.listboxpopupwindict['listboxtagging'].getitemlist()\n",
    "case.popup_storteddata['plotdomain']['plot_sampleprobes']    = ['p_hub']\n",
    "case.plotDomain(ax=ax)"
   ]
  },
  {
   "cell_type": "code",
   "execution_count": 18,
   "metadata": {
    "collapsed": false,
    "jupyter": {
     "outputs_hidden": false
    }
   },
   "outputs": [
    {
     "data": {
      "text/plain": [
       "Text(0.5, 1.0, 'Initial Temp. Profile')"
      ]
     },
     "execution_count": 18,
     "metadata": {},
     "output_type": "execute_result"
    },
    {
     "data": {
      "image/png": "[encoded data removed]",
      "text/plain": [
       "<Figure size 750x625 with 2 Axes>"
      ]
     },
     "metadata": {},
     "output_type": "display_data"
    }
   ],
   "source": [
    "fig, axs = plt.subplots(1,2, figsize=(6,5), facecolor='w', dpi=125, sharey=True)\n",
    "\n",
    "# Set any additional items to plot\n",
    "case.popup_storteddata['plotdomain']['plot_refineboxes']     = case.listboxpopupwindict['listboxtagging'].getitemlist()\n",
    "case.popup_storteddata['plotdomain']['plot_sampleprobes']    = ['p_hub']\n",
    "case.popup_storteddata['plotdomain']['plot_chooseview']      = 'XZ' \n",
    "#case.popup_storteddata['plotdomain']['plot_refineboxes']     = ['box1', 'box2', 'box3'] \n",
    "case.plotDomain(ax=axs[0])\n",
    "axs[0].set_title('Domain resolution')\n",
    "axs[0].axis('auto')\n",
    "axs[0].set_ylim([0,960])\n",
    "\n",
    "case.plotGenericProfile('ABL.temperature_values', 'ABL.temperature_heights', ax=axs[1])\n",
    "axs[1].set_ylim([0,960])\n",
    "#axs[1].axis('scaled')\n",
    "axs[1].set_xlabel('Temperature [K]')\n",
    "axs[1].set_title('Initial Temp. Profile')"
   ]
  },
  {
   "cell_type": "code",
   "execution_count": 19,
   "metadata": {
    "collapsed": false,
    "jupyter": {
     "outputs_hidden": false
    }
   },
   "outputs": [
    {
     "name": "stdout",
     "output_type": "stream",
     "text": [
      "ESTIMATED MESH SIZE\n",
      "   Level       Ncells                      Cell Size\n",
      "       0     64512000             10.0 x 10.0 x 10.0\n",
      "  TOTAL:     64512000\n"
     ]
    }
   ],
   "source": [
    "# This will print out your mesh size & refinements\n",
    "case.estimateMeshSize()"
   ]
  },
  {
   "cell_type": "code",
   "execution_count": 20,
   "metadata": {
    "collapsed": false,
    "jupyter": {
     "outputs_hidden": false
    }
   },
   "outputs": [
    {
     "name": "stdout",
     "output_type": "stream",
     "text": [
      "-- Checking inputs --\n",
      "[ PASS] max_level:           max_level = 0 >= 0\n",
      "[ PASS] dt & CFL:            DT and CFL OK\n",
      "[ PASS] Actuator physics:    incflo.physics and ICNS.source_terms OK for Actuators\n",
      "[ SKIP] Actuator FST:        No Actuators\n",
      "[ SKIP] Sampling probes:     Not active or no sampling planes\n",
      "\n",
      "Results: \n",
      " 3 PASS\n",
      " 2 SKIP\n",
      " 0 FAIL\n",
      " 0 WARN\n"
     ]
    }
   ],
   "source": [
    "# Check that all inputs are okay\n",
    "check=case.validate()"
   ]
  },
  {
   "cell_type": "code",
   "execution_count": 21,
   "metadata": {
    "collapsed": false,
    "jupyter": {
     "outputs_hidden": false
    }
   },
   "outputs": [
    {
     "name": "stdout",
     "output_type": "stream",
     "text": [
      "# --- Simulation time control parameters ---\n",
      "time.stop_time                           = 30000.0             # Max (simulated) time to evolve [s]\n",
      "time.max_step                            = -1                  \n",
      "time.fixed_dt                            = 0.5                 # Fixed timestep size (in seconds). If negative, then time.cfl is used\n",
      "time.checkpoint_interval                 = 5000                \n",
      "incflo.physics                           = ABL                 # List of physics models to include in simulation.\n",
      "incflo.verbose                           = 3                   \n",
      "io.check_file                            = chk                 \n",
      "incflo.use_godunov                       = true                \n",
      "incflo.godunov_type                      = weno_z              \n",
      "turbulence.model                         = OneEqKsgsM84        \n",
      "TKE.source_terms                         = KsgsM84Src          \n",
      "nodal_proj.mg_rtol                       = 1e-06               \n",
      "nodal_proj.mg_atol                       = 1e-12               \n",
      "mac_proj.mg_rtol                         = 1e-06               \n",
      "mac_proj.mg_atol                         = 1e-12               \n",
      "diffusion.mg_rtol                        = 1e-06               \n",
      "diffusion.mg_atol                        = 1e-12               \n",
      "temperature_diffusion.mg_rtol            = 1e-10               \n",
      "temperature_diffusion.mg_atol            = 1e-13               \n",
      "incflo.gravity                           = 0.0 0.0 -9.81       # Gravitational acceleration vector (x,y,z) [m/s^2]\n",
      "incflo.density                           = 1.2456              # Fluid density [kg/m^3]\n",
      "transport.viscosity                      = 1.771e-05           # Fluid dynamic viscosity [kg/m-s]\n",
      "transport.laminar_prandtl                = 0.7                 # Laminar prandtl number\n",
      "transport.turbulent_prandtl              = 0.3333              # Turbulent prandtl number\n",
      "\n",
      "# --- Geometry and Mesh ---\n",
      "geometry.prob_lo                         = 0.0 0.0 0.0         \n",
      "geometry.prob_hi                         = 7200.0 4000.0 2240.0\n",
      "amr.n_cell                               = 720 400 224         # Number of cells in x, y, and z directions\n",
      "amr.max_level                            = 0                   \n",
      "geometry.is_periodic                     = 1 1 0               \n",
      "zlo.type                                 = wall_model          \n",
      "zlo.temperature_type                     = wall_model          \n",
      "zlo.tke_type                             = zero_gradient       \n",
      "zhi.type                                 = slip_wall           \n",
      "zhi.temperature_type                     = fixed_gradient      \n",
      "zhi.temperature                          = 0.003               \n",
      "\n",
      "# --- ABL parameters ---\n",
      "ICNS.source_terms                        = ABLForcing BoussinesqBuoyancy CoriolisForcing ABLMeanBoussinesq\n",
      "ABL.stats_output_frequency               = 1                   \n",
      "ABL.stats_output_format                  = netcdf              \n",
      "incflo.velocity                          = 9.0 0.0 0.0         \n",
      "ABLForcing.abl_forcing_height            = 150.0               \n",
      "ABL.kappa                                = 0.4                 \n",
      "ABL.normal_direction                     = 2                   \n",
      "ABL.surface_roughness_z0                 = 0.051               \n",
      "ABL.reference_temperature                = 284.47              \n",
      "ABL.surface_temp_rate                    = 0.0                 \n",
      "ABL.surface_temp_flux                    = 0.032               # Surface temperature flux [K-m/s]\n",
      "ABL.mo_beta_m                            = 16.0                # Monin-Obukhov Beta m parameter\n",
      "ABL.mo_gamma_m                           = 5.0                 # Monin-Obukhov Gamma m parameter\n",
      "ABL.mo_gamma_h                           = 5.0                 # Monin-Obukhov Gamma h parameter\n",
      "ABL.random_gauss_mean                    = 0.0                 \n",
      "ABL.random_gauss_var                     = 1.0                 \n",
      "CoriolisForcing.latitude                 = 50.0                \n",
      "CoriolisForcing.rotational_time_period   = 86164.0900027328    \n",
      "CoriolisForcing.north_vector             = 0.0 1.0 0.0         \n",
      "CoriolisForcing.east_vector              = 1.0 0.0 0.0         \n",
      "BoussinesqBuoyancy.reference_temperature = 284.47              \n",
      "ABL.temperature_heights                  = 0       1500.0  1600.0  2250.0\n",
      "ABL.temperature_values                   = 284.47  284.47 292.47 294.42\n",
      "ABL.perturb_velocity                     = true                \n",
      "ABL.perturb_ref_height                   = 50.0                \n",
      "ABL.Uperiods                             = 7.2                 \n",
      "ABL.Vperiods                             = 4.0                 \n",
      "ABL.deltaU                               = 1.0                 \n",
      "ABL.deltaV                               = 1.0                 \n",
      "ABL.perturb_temperature                  = true                \n",
      "time.plot_interval                       = 5000                \n",
      "io.plot_file                             = plt                 \n",
      "io.KE_int                                = -1                  \n",
      "\n",
      "#---- postprocessing defs ----\n",
      "incflo.post_processing                   = samplePlane_ metmast_\n",
      "samplePlane_.type                        = Sampling            \n",
      "samplePlane_.output_frequency            = 1000                \n",
      "samplePlane_.fields                      = velocity tke        \n",
      "metmast_.type                            = Sampling            \n",
      "metmast_.output_frequency                = 1                   \n",
      "metmast_.fields                          = velocity            \n",
      "\n",
      "#---- sample defs ----\n",
      "samplePlane_.labels                      = p_hub               \n",
      "metmast_.labels                          = metmast_T1          \n",
      "samplePlane_.p_hub.type                  = PlaneSampler        \n",
      "samplePlane_.p_hub.num_points            = 241 134             \n",
      "samplePlane_.p_hub.origin                = 0.0 0.0 0.0         \n",
      "samplePlane_.p_hub.axis1                 = 7200.0 0.0 0.0      \n",
      "samplePlane_.p_hub.axis2                 = 0.0 4000.0 0.0      \n",
      "samplePlane_.p_hub.normal                = 0.0 0.0 1.0         \n",
      "samplePlane_.p_hub.offsets               = 150                 \n",
      "metmast_.metmast_T1.type                 = LineSampler         \n",
      "metmast_.metmast_T1.num_points           = 150                 \n",
      "metmast_.metmast_T1.start                = 2160.0 2000.0 0.0   \n",
      "metmast_.metmast_T1.end                  = 2160.0 2000.0 500.0 \n",
      "\n",
      "#---- extra params ----\n",
      "#== END AMR-WIND INPUT ==\n",
      "\n"
     ]
    }
   ],
   "source": [
    "# Write the input file\n",
    "#print(case.writeAMRWindInput('KingPlains_stable_precursor9_largerdomain.inp'))\n",
    "print(case.writeAMRWindInput('Offshore_HighTI_Precursor_Coarse.inp'))"
   ]
  },
  {
   "cell_type": "markdown",
   "metadata": {},
   "source": [
    "## Write a submission file (optional step)"
   ]
  },
  {
   "cell_type": "code",
   "execution_count": 22,
   "metadata": {},
   "outputs": [],
   "source": [
    "# Set some of the submission script parameters\n",
    "case.popup_storteddata['submitscript']['submitscript_numnodes'] = 48           \n",
    "case.popup_storteddata['submitscript']['submitscript_runtime']  = '48:00:00'   # 48 hours\n",
    "case.popup_storteddata['submitscript']['submitscript_wcid']     = 'fy230225'   # AWAKEN WCID\n",
    "case.popup_storteddata['submitscript']['submitscript_partition']= 'batch'\n",
    "case.popup_storteddata['submitscript']['submitscript_corespernode'] = 16       # 16 cores/node\n",
    "case.popup_storteddata['submitscript']['submitscript_queue']    = 'normal'\n",
    "case.popup_storteddata['submitscript']['submitscript_jobname']  = 'ABL0'       # name of the job\n",
    "\n",
    "case.popup_storteddata['submitscript']['submitscript_filename'] = 'submit.sh'  # The name of your submission"
   ]
  },
  {
   "cell_type": "code",
   "execution_count": 23,
   "metadata": {
    "collapsed": false,
    "jupyter": {
     "outputs_hidden": false
    }
   },
   "outputs": [
    {
     "name": "stdout",
     "output_type": "stream",
     "text": [
      "#!/bin/bash\n",
      "# Begin LSF Directives\n",
      "#BSUB -W 48:00:00\n",
      "#BSUB -n 48\n",
      "#BSUB -J ABL0\n",
      "#BSUB -o %J.out\n",
      "#BSUB -e %J.err\n",
      "\n",
      "submitscript_modules \n",
      "\n",
      "mpirun -np 48 amr_wind Offshore_HighTI_Precursor_Coarse.inp\n",
      "\n"
     ]
    }
   ],
   "source": [
    "# Preview what the submission script looks like\n",
    "print(case.submitscript_makescript(case.savefile))"
   ]
  },
  {
   "cell_type": "code",
   "execution_count": 24,
   "metadata": {
    "collapsed": false,
    "jupyter": {
     "outputs_hidden": false
    }
   },
   "outputs": [],
   "source": [
    "## This will write out submit.sh (and optionaly submit)\n",
    "#case.submitscript_savescript(submit=True)"
   ]
  },
  {
   "cell_type": "code",
   "execution_count": null,
   "metadata": {
    "collapsed": true,
    "jupyter": {
     "outputs_hidden": true
    }
   },
   "outputs": [],
   "source": []
  },
  {
   "cell_type": "code",
   "execution_count": null,
   "metadata": {},
   "outputs": [],
   "source": []
  }
 ],
 "metadata": {
  "kernelspec": {
   "display_name": "Python 3 (ipykernel)",
   "language": "python",
   "name": "python3"
  },
  "language_info": {
   "codemirror_mode": {
    "name": "ipython",
    "version": 3
   },
   "file_extension": ".py",
   "mimetype": "text/x-python",
   "name": "python",
   "nbconvert_exporter": "python",
   "pygments_lexer": "ipython3",
   "version": "3.9.13"
  }
 },
 "nbformat": 4,
 "nbformat_minor": 4
}
