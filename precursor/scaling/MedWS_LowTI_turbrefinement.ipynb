{
 "cells": [
  {
   "cell_type": "markdown",
   "metadata": {},
   "source": [
    "# NY Bight Offshore Precursor\n",
    "\n",
    "_Target_\n",
    "```\n",
    "WS: 9.03 m/s\tTI: 3.7%\n",
    "Shear: 0.171 \tVeer: 21.3°\n",
    "```"
   ]
  },
  {
   "cell_type": "code",
   "execution_count": 1,
   "metadata": {},
   "outputs": [],
   "source": [
    "# Load the modules\n",
    "\n",
    "# Add any possible locations of amr-wind-frontend here\n",
    "amrwindfedirs = ['/ascldap/users/lcheung/wind_uq/amrwind-frontend/',\n",
    "                 '/ccs/proj/cfd162/lcheung/amrwind-frontend/']\n",
    "import sys, os, shutil\n",
    "for x in amrwindfedirs: sys.path.insert(1, x)\n",
    "    \n",
    "# Load the libraries\n",
    "import amrwind_frontend as amrwind\n",
    "import matplotlib.pyplot    as plt\n",
    "\n",
    "# Also ignore warnings\n",
    "import warnings\n",
    "warnings.filterwarnings('ignore')\n",
    "\n",
    "# Make all plots inline \n",
    "%matplotlib inline"
   ]
  },
  {
   "cell_type": "code",
   "execution_count": 2,
   "metadata": {},
   "outputs": [],
   "source": [
    "# Start the case\n",
    "case = amrwind.MyApp.init_nogui()"
   ]
  },
  {
   "cell_type": "code",
   "execution_count": 3,
   "metadata": {},
   "outputs": [],
   "source": [
    "# Set the time constants\n",
    "case.setAMRWindInput('time.stop_time', 50.0)\n",
    "case.setAMRWindInput('time.max_step',  -1)\n",
    "\n",
    "case.setAMRWindInput('time.fixed_dt',  0.01)\n",
    "case.setAMRWindInput('time.checkpoint_interval',  8000)"
   ]
  },
  {
   "cell_type": "code",
   "execution_count": 4,
   "metadata": {},
   "outputs": [],
   "source": [
    "# Set some basic parameters\n",
    "case.setAMRWindInput('incflo.physics',      ['ABL'])  # Must have ABL physics to do ABL calculations\n",
    "case.setAMRWindInput('incflo.verbose',      3)        # This is optional, verbose=3 means more info in the output logs\n",
    "case.setAMRWindInput('io.check_file',       'chk')    # What to name the checkpoint files\n",
    "\n",
    "case.setAMRWindInput('incflo.use_godunov',  True)       # Always use a godunov scheme\n",
    "case.setAMRWindInput('incflo.godunov_type', 'weno_z')   # Use 'weno_z' \n",
    "\n",
    "case.setAMRWindInput('turbulence.model',    ['OneEqKsgsM84'])    # One equation k-sgs subgrid scale model\n",
    "case.setAMRWindInput('TKE.source_terms',    ['KsgsM84Src'])      # The corresponding source term\n",
    "\n",
    "case.setAMRWindInput('transport.viscosity', 1.771e-05)           # dynamic viscosity, based on median air temperature of 284.47 K from 2 m above E06, units Pa-s\n",
    "case.setAMRWindInput('incflo.density',      1.2456)              # density, based on 1017.13*100./(284.47)/287.058 where 1017.13 is median air pressure from 2 m above E06 \n",
    "                                                                 #   and 284.47 is median air temperature from 2 m above E06, units kg/m^3"
   ]
  },
  {
   "cell_type": "code",
   "execution_count": 5,
   "metadata": {},
   "outputs": [],
   "source": [
    "# Set the wind speed and direction\n",
    "case.setAMRWindInput('useWSDir', True)                           # Allows you to specify wind speed + wind direction \n",
    "case.setAMRWindInput('ABL_windspeed', 9.03, forcechange=True)     # Wind speed of 9.03 m/s\n",
    "case.setAMRWindInput('ABL_winddir',   225, forcechange=True)     # Wind direction of 225 degrees, from S-W\n",
    "case.ABL_calculateWindVector()"
   ]
  },
  {
   "cell_type": "code",
   "execution_count": 6,
   "metadata": {},
   "outputs": [],
   "source": [
    "# Set some tolerances (leave this alone)\n",
    "tols = \"\"\"\n",
    "nodal_proj.mg_rtol                       = 1e-06               \n",
    "nodal_proj.mg_atol                       = 1e-12               \n",
    "mac_proj.mg_rtol                         = 1e-06               \n",
    "mac_proj.mg_atol                         = 1e-12               \n",
    "diffusion.mg_rtol                        = 1e-06               \n",
    "diffusion.mg_atol                        = 1e-12               \n",
    "temperature_diffusion.mg_rtol            = 1e-10               \n",
    "temperature_diffusion.mg_atol            = 1e-13               \n",
    "\"\"\"\n",
    "case.loadAMRWindInput(tols, string=True);"
   ]
  },
  {
   "cell_type": "code",
   "execution_count": 7,
   "metadata": {},
   "outputs": [],
   "source": [
    "# Sets up the domain and level 0 mesh\n",
    "case.setAMRWindInput('geometry.prob_lo', [   0.0,    0.0, 0.0 ])\n",
    "case.setAMRWindInput('geometry.prob_hi', [1024.0,  1024.0, 1024.0])   # each number must be divisible by 16\n",
    "case.setAMRWindInput('amr.n_cell',       [128,     128,    128])      \n",
    "case.setAMRWindInput('amr.max_level',    4) "
   ]
  },
  {
   "cell_type": "code",
   "execution_count": 8,
   "metadata": {},
   "outputs": [],
   "source": [
    "# This cell sets up boundary conditions\n",
    "case.setAMRWindInput('is_periodicx', True)     # periodic in x\n",
    "case.setAMRWindInput('is_periodicy', True)     # periodic in y\n",
    "case.setAMRWindInput('is_periodicz', False)    # Enforce some boundary conditions in z\n",
    "\n",
    "# Boundary conditions in z\n",
    "case.setAMRWindInput('zlo.type',              'wall_model')          \n",
    "case.setAMRWindInput('zlo.temperature_type',  'wall_model')          \n",
    "case.setAMRWindInput('zlo.tke_type',          'zero_gradient')       \n",
    "case.setAMRWindInput('zhi.type',              'slip_wall')           \n",
    "case.setAMRWindInput('zhi.temperature_type',  'fixed_gradient')      \n",
    "case.setAMRWindInput('zhi.temperature',       0.003) "
   ]
  },
  {
   "cell_type": "code",
   "execution_count": 9,
   "metadata": {
    "collapsed": false,
    "jupyter": {
     "outputs_hidden": false
    }
   },
   "outputs": [
    {
     "name": "stdout",
     "output_type": "stream",
     "text": [
      "CANNOT update: ABLMeanBoussinesq use forcechange=True in setval()\n"
     ]
    }
   ],
   "source": [
    "# Now set up ABL specific forces, parameters, etc.\n",
    "case.setAMRWindInput('ICNS.source_terms',     ['ABLForcing','BoussinesqBuoyancy', 'CoriolisForcing'])\n",
    "\n",
    "case.setAMRWindInput('ABL.stats_output_frequency',   1)           # Output ABL stats every iteration            \n",
    "case.setAMRWindInput('ABL.stats_output_format',   'netcdf')       # Use netcdf output because that's how we postprocess\n",
    "\n",
    "case.setAMRWindInput('ABLForcing.abl_forcing_height',   150)       # Hub height wind speed you want specify \n",
    "case.setAMRWindInput('ABL.kappa',                       0.4)      # Kolmogorov constant\n",
    "\n",
    "case.setAMRWindInput('ABL.normal_direction',      2)              # vertical is in z\n",
    "case.setAMRWindInput('ABL.surface_roughness_z0',  0.0001)           # Surface roughess, SOMETHING WE WILL PROBABLY WANT TO ITERATE ON\n",
    "case.setAMRWindInput('ABL.reference_temperature', 284.47)        # Correspond to what was measured at ARM\n",
    "case.setAMRWindInput('ABL.surface_temp_rate',     -0.01)            # d(Temperature)/dt ---> set this to zero for unstable ABL\n",
    "#case.setAMRWindInput('ABL.surface_temp_flux',     0.0)          # Surface temperature flux (K*m/s) --> Use this for unstable ABL's (ITERATE ON THIS TOO)\n",
    "\n",
    "case.setAMRWindInput('ABL.perturb_temperature',    True)\n",
    "case.setAMRWindInput('ABL.perturb_velocity',       True)\n",
    "\n",
    "# Monin-Obukhov parameters (No need to change)\n",
    "case.setAMRWindInput('ABL.mo_beta_m',             16.0)\n",
    "case.setAMRWindInput('ABL.mo_gamma_m',            5.0)\n",
    "case.setAMRWindInput('ABL.mo_gamma_h',            5.0)\n",
    "case.setAMRWindInput('ABL.random_gauss_mean',     0.0)\n",
    "case.setAMRWindInput('ABL.random_gauss_var',      1.0)"
   ]
  },
  {
   "cell_type": "code",
   "execution_count": 10,
   "metadata": {},
   "outputs": [],
   "source": [
    "case.setAMRWindInput('CoriolisForcing.latitude',  39.55 )        # Sets up the latitude of the site\n",
    "case.setAMRWindInput('BoussinesqBuoyancy.reference_temperature', 284.47)    # The reference temperature\n",
    "\n",
    "# These inputs set up the initial temperature profile (Same as Nalu-Wind temperature profile)\n",
    "case.setAMRWindInput('ABL.temperature_heights', '0       500.0  600.0  1024.0')\n",
    "case.setAMRWindInput('ABL.temperature_values',  '284.47  284.47  292.47  293.742')"
   ]
  },
  {
   "cell_type": "code",
   "execution_count": 11,
   "metadata": {},
   "outputs": [],
   "source": [
    "# This is a case where we don't want to use the defaults in amrwind-frontend\n",
    "case.setAMRWindInput('ABL.perturb_ref_height', 50.0)\n",
    "case.setAMRWindInput('ABL.Uperiods', 4.0)\n",
    "case.setAMRWindInput('ABL.Vperiods', 4.0)\n",
    "case.setAMRWindInput('ABL.deltaU',   1.0)\n",
    "case.setAMRWindInput('ABL.deltaV',   1.0)\n",
    "case.setAMRWindInput('ABL.theta_amplitude',   None)\n",
    "case.setAMRWindInput('ABL.cutoff_height',   None)"
   ]
  },
  {
   "cell_type": "code",
   "execution_count": 12,
   "metadata": {},
   "outputs": [
    {
     "name": "stdout",
     "output_type": "stream",
     "text": [
      "Cannot set incflo.post_processing\n",
      "Cannot set sampling.output_frequency\n",
      "Cannot set sampling.fields\n"
     ]
    }
   ],
   "source": [
    "# To set up the sampling output\n",
    "case.setAMRWindInput('time.plot_interval',        8000) \n",
    "\n",
    "# Set up some sampling planes\n",
    "case.setAMRWindInput('incflo.post_processing',    ['sampling'])            \n",
    "case.setAMRWindInput('sampling.output_frequency', 1000)         # Output sampling planes every 1000 iterations/500 secs        \n",
    "case.setAMRWindInput('sampling.fields',           ['velocity', 'temperature'])"
   ]
  },
  {
   "cell_type": "code",
   "execution_count": 13,
   "metadata": {},
   "outputs": [],
   "source": [
    "sampleplane = case.get_default_samplingdict()\n",
    "# Set up a sampling plane at two heights: z=60m and z=91m\n",
    "sampleplane['sampling_name']         = 'p_hub'\n",
    "sampleplane['sampling_type']         = 'PlaneSampler'\n",
    "sampleplane['sampling_p_num_points'] = [129, 129]\n",
    "sampleplane['sampling_p_origin']     = [0, 0, 0]\n",
    "sampleplane['sampling_p_axis1']      = [1024, 0, 0]\n",
    "sampleplane['sampling_p_axis2']      = [0, 1024, 0]\n",
    "sampleplane['sampling_p_normal']     = [0, 0, 1]      # This is the direction I want to move/offset the planes\n",
    "sampleplane['sampling_p_offsets']    = '150'          # This is how much to offset the planes\n",
    "case.add_sampling(sampleplane)"
   ]
  },
  {
   "cell_type": "code",
   "execution_count": 14,
   "metadata": {},
   "outputs": [],
   "source": [
    "refinementcsv=\"\"\"\n",
    "# CSV file should have columns with\n",
    "# level, upstream, downstream, lateral, below, above, options\n",
    "level, upstream, downstream, lateral, below, above, options\n",
    "0,     450,       450,      450,    91,    309,   center:specified units:meter centerx:640 centery:640 centerz:91 name:A\n",
    "\"\"\"\n",
    "#case.setAMRWindInput('refine_csvtextbox', refinementcsv)\n",
    "#case.setAMRWindInput('refine_deleteprev', True)"
   ]
  },
  {
   "cell_type": "code",
   "execution_count": 15,
   "metadata": {},
   "outputs": [],
   "source": [
    "# Create a refinement zone\n",
    "# Get the default dictionary for refinement window\n",
    "refinewin = case.get_default_taggingdict()\n",
    "eps = 12\n",
    "# Edit the parameters of the refinement window\n",
    "refinewin['tagging_name']         = 'box1'\n",
    "refinewin['tagging_shapes']       = 'box1'\n",
    "refinewin['tagging_type']         = 'GeometryRefinement'\n",
    "refinewin['tagging_level']        = 0\n",
    "refinewin['tagging_geom_type']    = 'box'\n",
    "refinewin['tagging_geom_origin']  = [0, 0, 0]\n",
    "refinewin['tagging_geom_xaxis']   = [1024, 0, 0]\n",
    "refinewin['tagging_geom_yaxis']   = [0, 1024, 0]\n",
    "refinewin['tagging_geom_zaxis']   = [0, 0, 512-eps]\n",
    "# Add refinement zone to simulation.\n",
    "case.add_tagging(refinewin)\n",
    "\n",
    "# Get the default dictionary for refinement window\n",
    "refinewin = case.get_default_taggingdict()\n",
    "epsA = 4\n",
    "epsB = 12\n",
    "# Edit the parameters of the refinement window\n",
    "refinewin['tagging_name']         = 'box2'\n",
    "refinewin['tagging_shapes']       = 'box2'\n",
    "refinewin['tagging_type']         = 'GeometryRefinement'\n",
    "refinewin['tagging_level']        = 1\n",
    "refinewin['tagging_geom_type']    = 'box'\n",
    "refinewin['tagging_geom_origin']  = [256+epsA, 256+epsA, 0]\n",
    "refinewin['tagging_geom_xaxis']   = [512-epsB, 0, 0]\n",
    "refinewin['tagging_geom_yaxis']   = [0, 512-epsB, 0]\n",
    "refinewin['tagging_geom_zaxis']   = [0, 0, 384-epsA]\n",
    "# Add refinement zone to simulation.\n",
    "case.add_tagging(refinewin)\n",
    "\n",
    "# Get the default dictionary for refinement window\n",
    "refinewin = case.get_default_taggingdict()\n",
    "epsA = 4\n",
    "epsB = 6\n",
    "# Edit the parameters of the refinement window\n",
    "refinewin['tagging_name']         = 'box3'\n",
    "refinewin['tagging_shapes']       = 'box3'\n",
    "refinewin['tagging_type']         = 'GeometryRefinement'\n",
    "refinewin['tagging_level']        = 2\n",
    "refinewin['tagging_geom_type']    = 'box'\n",
    "refinewin['tagging_geom_origin']  = [384+epsA, 384+epsA, 0]\n",
    "refinewin['tagging_geom_xaxis']   = [256-epsB, 0, 0]\n",
    "refinewin['tagging_geom_yaxis']   = [0, 256-epsB, 0]\n",
    "refinewin['tagging_geom_zaxis']   = [0, 0, 256-epsB]\n",
    "# Add refinement zone to simulation.\n",
    "case.add_tagging(refinewin)\n",
    "\n",
    "# Get the default dictionary for refinement window\n",
    "refinewin = case.get_default_taggingdict()\n",
    "epsA = 4\n",
    "epsB = 6\n",
    "# Edit the parameters of the refinement window\n",
    "refinewin['tagging_name']         = 'box4'\n",
    "refinewin['tagging_shapes']       = 'box4'\n",
    "refinewin['tagging_type']         = 'GeometryRefinement'\n",
    "refinewin['tagging_level']        = 3\n",
    "refinewin['tagging_geom_type']    = 'box'\n",
    "refinewin['tagging_geom_origin']  = [448+epsA, 448+epsA, 0]\n",
    "refinewin['tagging_geom_xaxis']   = [128-epsB, 0, 0]\n",
    "refinewin['tagging_geom_yaxis']   = [0, 128-epsB, 0]\n",
    "refinewin['tagging_geom_zaxis']   = [0, 0, 192-epsA]\n",
    "# Add refinement zone to simulation.\n",
    "case.add_tagging(refinewin)"
   ]
  },
  {
   "cell_type": "code",
   "execution_count": 16,
   "metadata": {},
   "outputs": [
    {
     "name": "stdout",
     "output_type": "stream",
     "text": [
      "['box1', 'box2', 'box3', 'box4']\n"
     ]
    }
   ],
   "source": [
    "#case.refine_createAllZones()\n",
    "# Print out existing list of turbines\n",
    "print(case.listboxpopupwindict['listboxtagging'].getitemlist())"
   ]
  },
  {
   "cell_type": "markdown",
   "metadata": {},
   "source": [
    "## Plot the domain"
   ]
  },
  {
   "cell_type": "code",
   "execution_count": 17,
   "metadata": {
    "collapsed": false,
    "jupyter": {
     "outputs_hidden": false
    }
   },
   "outputs": [
    {
     "data": {
      "image/png": "[encoded data removed]",
      "text/plain": [
       "<Figure size 750x750 with 1 Axes>"
      ]
     },
     "metadata": {},
     "output_type": "display_data"
    }
   ],
   "source": [
    "fig, ax = plt.subplots(figsize=(6,6), facecolor='w', dpi=125)\n",
    "\n",
    "# Set any additional items to plot\n",
    "case.popup_storteddata['plotdomain']['plot_refineboxes']     = case.listboxpopupwindict['listboxtagging'].getitemlist()\n",
    "case.popup_storteddata['plotdomain']['plot_sampleprobes']    = [] #['p_hub']\n",
    "case.popup_storteddata['plotdomain']['plot_chooseview']      = 'XY' \n",
    "case.plotDomain(ax=ax)"
   ]
  },
  {
   "cell_type": "code",
   "execution_count": 18,
   "metadata": {},
   "outputs": [
    {
     "data": {
      "image/png": "[encoded data removed]",
      "text/plain": [
       "<Figure size 750x750 with 1 Axes>"
      ]
     },
     "metadata": {},
     "output_type": "display_data"
    }
   ],
   "source": [
    "fig, ax = plt.subplots(figsize=(6,6), facecolor='w', dpi=125)\n",
    "\n",
    "# Set any additional items to plot\n",
    "case.popup_storteddata['plotdomain']['plot_refineboxes']     = case.listboxpopupwindict['listboxtagging'].getitemlist()\n",
    "case.popup_storteddata['plotdomain']['plot_sampleprobes']    = [] #['p_hub']\n",
    "case.popup_storteddata['plotdomain']['plot_chooseview']      = 'XZ' \n",
    "case.plotDomain(ax=ax)"
   ]
  },
  {
   "cell_type": "code",
   "execution_count": 19,
   "metadata": {
    "collapsed": false,
    "jupyter": {
     "outputs_hidden": false
    }
   },
   "outputs": [
    {
     "data": {
      "text/plain": [
       "Text(0.5, 1.0, 'Initial Temp. Profile')"
      ]
     },
     "execution_count": 19,
     "metadata": {},
     "output_type": "execute_result"
    },
    {
     "data": {
      "image/png": "[encoded data removed]",
      "text/plain": [
       "<Figure size 750x625 with 2 Axes>"
      ]
     },
     "metadata": {},
     "output_type": "display_data"
    }
   ],
   "source": [
    "fig, axs = plt.subplots(1,2, figsize=(6,5), facecolor='w', dpi=125, sharey=True)\n",
    "\n",
    "# Set any additional items to plot\n",
    "case.popup_storteddata['plotdomain']['plot_refineboxes']     = case.listboxpopupwindict['listboxtagging'].getitemlist()\n",
    "case.popup_storteddata['plotdomain']['plot_sampleprobes']    = ['p_hub']\n",
    "case.popup_storteddata['plotdomain']['plot_chooseview']      = 'XZ' \n",
    "#case.popup_storteddata['plotdomain']['plot_refineboxes']     = ['box1', 'box2', 'box3'] \n",
    "case.plotDomain(ax=axs[0])\n",
    "axs[0].set_title('Domain resolution')\n",
    "axs[0].axis('auto')\n",
    "axs[0].set_ylim([0,1024])\n",
    "\n",
    "case.plotGenericProfile('ABL.temperature_values', 'ABL.temperature_heights', ax=axs[1])\n",
    "axs[1].set_ylim([0,1024])\n",
    "#axs[1].axis('scaled')\n",
    "axs[1].set_xlabel('Temperature [K]')\n",
    "axs[1].set_title('Initial Temp. Profile')"
   ]
  },
  {
   "cell_type": "code",
   "execution_count": 20,
   "metadata": {
    "collapsed": false,
    "jupyter": {
     "outputs_hidden": false
    }
   },
   "outputs": [
    {
     "name": "stdout",
     "output_type": "stream",
     "text": [
      "Refinement box1: level 1: 8192000 cells\n",
      "Refinement box2: level 2: 11875000 cells\n",
      "Refinement box3: level 3: 15625000 cells\n",
      "Refinement box4: level 4: 22385536 cells\n",
      "ESTIMATED MESH SIZE\n",
      "   Level       Ncells                      Cell Size\n",
      "       0      2097152                8.0 x 8.0 x 8.0\n",
      "       1      8192000                4.0 x 4.0 x 4.0\n",
      "       2     11875000                2.0 x 2.0 x 2.0\n",
      "       3     15625000                1.0 x 1.0 x 1.0\n",
      "       4     22385536                0.5 x 0.5 x 0.5\n",
      "  TOTAL:     60174688\n"
     ]
    }
   ],
   "source": [
    "# This will print out your mesh size & refinements\n",
    "case.estimateMeshSize()"
   ]
  },
  {
   "cell_type": "markdown",
   "metadata": {},
   "source": [
    "Compare this with the ideal mesh distribution we're going after:\n",
    "```\n",
    "Refinement box1: level 1: 8388608 cells\n",
    "Refinement box2: level 2: 12582912 cells\n",
    "Refinement box3: level 3: 16777216 cells\n",
    "Refinement box4: level 4: 25165824 cells\n",
    "ESTIMATED MESH SIZE\n",
    "   Level       Ncells                      Cell Size\n",
    "       0      2097152                8.0 x 8.0 x 8.0\n",
    "       1      8388608                4.0 x 4.0 x 4.0\n",
    "       2     12582912                2.0 x 2.0 x 2.0\n",
    "       3     16777216                1.0 x 1.0 x 1.0\n",
    "       4     25165824                0.5 x 0.5 x 0.5\n",
    "  TOTAL:     65011712\n",
    "```"
   ]
  },
  {
   "cell_type": "code",
   "execution_count": 21,
   "metadata": {
    "collapsed": false,
    "jupyter": {
     "outputs_hidden": false
    }
   },
   "outputs": [
    {
     "name": "stdout",
     "output_type": "stream",
     "text": [
      "-- Checking inputs --\n",
      "[ PASS] max_level:           max_level = 4 >= 0\n",
      "[ PASS] dt & CFL:            DT and CFL OK\n",
      "[ PASS] Actuator physics:    incflo.physics and ICNS.source_terms OK for Actuators\n",
      "[ SKIP] Actuator FST:        No Actuators\n",
      "[ SKIP] Sampling probes:     Not active or no sampling planes\n",
      "\n",
      "Results: \n",
      " 3 PASS\n",
      " 2 SKIP\n",
      " 0 FAIL\n",
      " 0 WARN\n"
     ]
    }
   ],
   "source": [
    "# Check that all inputs are okay\n",
    "check=case.validate()"
   ]
  },
  {
   "cell_type": "code",
   "execution_count": 22,
   "metadata": {
    "collapsed": false,
    "jupyter": {
     "outputs_hidden": false
    }
   },
   "outputs": [
    {
     "name": "stdout",
     "output_type": "stream",
     "text": [
      "# --- Simulation time control parameters ---\n",
      "time.stop_time                           = 50.0                # Max (simulated) time to evolve [s]\n",
      "time.max_step                            = -1                  \n",
      "time.fixed_dt                            = 0.01                # Fixed timestep size (in seconds). If negative, then time.cfl is used\n",
      "time.checkpoint_interval                 = 8000                \n",
      "incflo.physics                           = ABL                 # List of physics models to include in simulation.\n",
      "incflo.verbose                           = 3                   \n",
      "io.check_file                            = chk                 \n",
      "incflo.use_godunov                       = true                \n",
      "incflo.godunov_type                      = weno_z              \n",
      "turbulence.model                         = OneEqKsgsM84        \n",
      "TKE.source_terms                         = KsgsM84Src          \n",
      "nodal_proj.mg_rtol                       = 1e-06               \n",
      "nodal_proj.mg_atol                       = 1e-12               \n",
      "mac_proj.mg_rtol                         = 1e-06               \n",
      "mac_proj.mg_atol                         = 1e-12               \n",
      "diffusion.mg_rtol                        = 1e-06               \n",
      "diffusion.mg_atol                        = 1e-12               \n",
      "temperature_diffusion.mg_rtol            = 1e-10               \n",
      "temperature_diffusion.mg_atol            = 1e-13               \n",
      "incflo.gravity                           = 0.0 0.0 -9.81       # Gravitational acceleration vector (x,y,z) [m/s^2]\n",
      "incflo.density                           = 1.2456              # Fluid density [kg/m^3]\n",
      "transport.viscosity                      = 1.771e-05           # Fluid dynamic viscosity [kg/m-s]\n",
      "transport.laminar_prandtl                = 0.7                 # Laminar prandtl number\n",
      "transport.turbulent_prandtl              = 0.3333              # Turbulent prandtl number\n",
      "\n",
      "# --- Geometry and Mesh ---\n",
      "geometry.prob_lo                         = 0.0 0.0 0.0         \n",
      "geometry.prob_hi                         = 1024.0 1024.0 1024.0\n",
      "amr.n_cell                               = 128 128 128         # Number of cells in x, y, and z directions\n",
      "amr.max_level                            = 4                   \n",
      "geometry.is_periodic                     = 1 1 0               \n",
      "zlo.type                                 = wall_model          \n",
      "zlo.temperature_type                     = wall_model          \n",
      "zlo.tke_type                             = zero_gradient       \n",
      "zhi.type                                 = slip_wall           \n",
      "zhi.temperature_type                     = fixed_gradient      \n",
      "zhi.temperature                          = 0.003               \n",
      "\n",
      "# --- ABL parameters ---\n",
      "ICNS.source_terms                        = ABLForcing BoussinesqBuoyancy CoriolisForcing\n",
      "ABL.stats_output_frequency               = 1                   \n",
      "ABL.stats_output_format                  = netcdf              \n",
      "incflo.velocity                          = 6.385174234114524 6.3851742341145235 0.0\n",
      "ABLForcing.abl_forcing_height            = 150.0               \n",
      "ABL.kappa                                = 0.4                 \n",
      "ABL.normal_direction                     = 2                   \n",
      "ABL.surface_roughness_z0                 = 0.0001              \n",
      "ABL.reference_temperature                = 284.47              \n",
      "ABL.surface_temp_rate                    = -0.01               \n",
      "ABL.mo_beta_m                            = 16.0                # Monin-Obukhov Beta m parameter\n",
      "ABL.mo_gamma_m                           = 5.0                 # Monin-Obukhov Gamma m parameter\n",
      "ABL.mo_gamma_h                           = 5.0                 # Monin-Obukhov Gamma h parameter\n",
      "ABL.random_gauss_mean                    = 0.0                 \n",
      "ABL.random_gauss_var                     = 1.0                 \n",
      "CoriolisForcing.latitude                 = 39.55               \n",
      "CoriolisForcing.rotational_time_period   = 86164.0900027328    \n",
      "CoriolisForcing.north_vector             = 0.0 1.0 0.0         \n",
      "CoriolisForcing.east_vector              = 1.0 0.0 0.0         \n",
      "BoussinesqBuoyancy.reference_temperature = 284.47              \n",
      "ABL.temperature_heights                  = 0       500.0  600.0  1024.0\n",
      "ABL.temperature_values                   = 284.47  284.47  292.47  293.742\n",
      "ABL.perturb_velocity                     = true                \n",
      "ABL.perturb_ref_height                   = 50.0                \n",
      "ABL.Uperiods                             = 4.0                 \n",
      "ABL.Vperiods                             = 4.0                 \n",
      "ABL.deltaU                               = 1.0                 \n",
      "ABL.deltaV                               = 1.0                 \n",
      "ABL.perturb_temperature                  = true                \n",
      "time.plot_interval                       = 8000                \n",
      "io.plot_file                             = plt                 \n",
      "io.KE_int                                = -1                  \n",
      "\n",
      "#---- tagging defs ----\n",
      "tagging.labels                           = box1 box2 box3 box4 \n",
      "tagging.box1.type                        = GeometryRefinement  \n",
      "tagging.box1.shapes                      = box1                \n",
      "tagging.box1.level                       = 0                   \n",
      "tagging.box1.box1.type                   = box                 \n",
      "tagging.box1.box1.origin                 = 0.0 0.0 0.0         \n",
      "tagging.box1.box1.xaxis                  = 1024.0 0.0 0.0      \n",
      "tagging.box1.box1.yaxis                  = 0.0 1024.0 0.0      \n",
      "tagging.box1.box1.zaxis                  = 0.0 0.0 500.0       \n",
      "tagging.box2.type                        = GeometryRefinement  \n",
      "tagging.box2.shapes                      = box2                \n",
      "tagging.box2.level                       = 1                   \n",
      "tagging.box2.box2.type                   = box                 \n",
      "tagging.box2.box2.origin                 = 260.0 260.0 0.0     \n",
      "tagging.box2.box2.xaxis                  = 500.0 0.0 0.0       \n",
      "tagging.box2.box2.yaxis                  = 0.0 500.0 0.0       \n",
      "tagging.box2.box2.zaxis                  = 0.0 0.0 380.0       \n",
      "tagging.box3.type                        = GeometryRefinement  \n",
      "tagging.box3.shapes                      = box3                \n",
      "tagging.box3.level                       = 2                   \n",
      "tagging.box3.box3.type                   = box                 \n",
      "tagging.box3.box3.origin                 = 388.0 388.0 0.0     \n",
      "tagging.box3.box3.xaxis                  = 250.0 0.0 0.0       \n",
      "tagging.box3.box3.yaxis                  = 0.0 250.0 0.0       \n",
      "tagging.box3.box3.zaxis                  = 0.0 0.0 250.0       \n",
      "tagging.box4.type                        = GeometryRefinement  \n",
      "tagging.box4.shapes                      = box4                \n",
      "tagging.box4.level                       = 3                   \n",
      "tagging.box4.box4.type                   = box                 \n",
      "tagging.box4.box4.origin                 = 452.0 452.0 0.0     \n",
      "tagging.box4.box4.xaxis                  = 122.0 0.0 0.0       \n",
      "tagging.box4.box4.yaxis                  = 0.0 122.0 0.0       \n",
      "tagging.box4.box4.zaxis                  = 0.0 0.0 188.0       \n",
      "\n",
      "#---- postprocessing defs ----\n",
      "incflo.post_processing                   = sampling            \n",
      "sampling.type                            = Sampling            \n",
      "sampling.output_frequency                = 100                 \n",
      "sampling.fields                          = velocity            \n",
      "\n",
      "#---- sample defs ----\n",
      "sampling.labels                          = p_hub               \n",
      "sampling.p_hub.type                      = PlaneSampler        \n",
      "sampling.p_hub.num_points                = 129 129             \n",
      "sampling.p_hub.origin                    = 0.0 0.0 0.0         \n",
      "sampling.p_hub.axis1                     = 1024.0 0.0 0.0      \n",
      "sampling.p_hub.axis2                     = 0.0 1024.0 0.0      \n",
      "sampling.p_hub.normal                    = 0.0 0.0 1.0         \n",
      "sampling.p_hub.offsets                   = 150                 \n",
      "\n",
      "#---- extra params ----\n",
      "#== END AMR-WIND INPUT ==\n",
      "\n"
     ]
    }
   ],
   "source": [
    "# Write the input file\n",
    "print(case.writeAMRWindInput('MedWS_LowTI_turblayout.inp'))"
   ]
  },
  {
   "cell_type": "markdown",
   "metadata": {},
   "source": [
    "## Write a submission file (optional step)"
   ]
  },
  {
   "cell_type": "code",
   "execution_count": 23,
   "metadata": {},
   "outputs": [],
   "source": [
    "# Set some of the submission script parameters\n",
    "case.popup_storteddata['submitscript']['submitscript_numnodes'] = 32           \n",
    "case.popup_storteddata['submitscript']['submitscript_runtime']  = '48:00:00'   # 48 hours\n",
    "case.popup_storteddata['submitscript']['submitscript_wcid']     = 'fy210193'   # AWAKEN WCID\n",
    "case.popup_storteddata['submitscript']['submitscript_partition']= 'batch'\n",
    "case.popup_storteddata['submitscript']['submitscript_corespernode'] = 16       # 16 cores/node\n",
    "case.popup_storteddata['submitscript']['submitscript_queue']    = 'normal'\n",
    "case.popup_storteddata['submitscript']['submitscript_jobname']  = 'ABL1'       # name of the job\n",
    "\n",
    "case.popup_storteddata['submitscript']['submitscript_filename'] = 'submit.sh'  # The name of your submission"
   ]
  },
  {
   "cell_type": "code",
   "execution_count": 24,
   "metadata": {
    "collapsed": false,
    "jupyter": {
     "outputs_hidden": false
    }
   },
   "outputs": [
    {
     "name": "stdout",
     "output_type": "stream",
     "text": [
      "#!/bin/bash\n",
      "# Begin LSF Directives\n",
      "#BSUB -W 48:00:00\n",
      "#BSUB -n 32\n",
      "#BSUB -J ABL1\n",
      "#BSUB -o %J.out\n",
      "#BSUB -e %J.err\n",
      "\n",
      "submitscript_modules \n",
      "\n",
      "mpirun -np 32 amr_wind MedWS_LowTI_turblayout.inp\n",
      "\n"
     ]
    }
   ],
   "source": [
    "# Preview what the submission script looks like\n",
    "print(case.submitscript_makescript(case.savefile))"
   ]
  },
  {
   "cell_type": "code",
   "execution_count": 25,
   "metadata": {
    "collapsed": false,
    "jupyter": {
     "outputs_hidden": false
    }
   },
   "outputs": [],
   "source": [
    "# This will write out submit.sh (and not submit)\n",
    "#case.submitscript_savescript(submit=False)"
   ]
  }
 ],
 "metadata": {
  "kernelspec": {
   "display_name": "Python 3 (ipykernel)",
   "language": "python",
   "name": "python3"
  },
  "language_info": {
   "codemirror_mode": {
    "name": "ipython",
    "version": 3
   },
   "file_extension": ".py",
   "mimetype": "text/x-python",
   "name": "python",
   "nbconvert_exporter": "python",
   "pygments_lexer": "ipython3",
   "version": "3.9.13"
  }
 },
 "nbformat": 4,
 "nbformat_minor": 4
}
