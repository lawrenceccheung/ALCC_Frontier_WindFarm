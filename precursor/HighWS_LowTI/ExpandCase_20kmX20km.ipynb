{
 "cells": [
  {
   "cell_type": "markdown",
   "id": "ba4deea7-44d3-42fc-8de0-6187d3c222c5",
   "metadata": {},
   "source": [
    "# Create "
   ]
  },
  {
   "cell_type": "code",
   "execution_count": 1,
   "id": "fbe5210c-fa9e-49de-b557-21596b55e58a",
   "metadata": {},
   "outputs": [],
   "source": [
    "# Add any possible locations of amr-wind-frontend here\n",
    "amrwindfedirs = ['/projects/wind_uq/lcheung/amrwind-frontend/',\n",
    "                 '/ccs/proj/cfd162/lcheung/amrwind-frontend/']\n",
    "import sys, os, shutil\n",
    "for x in amrwindfedirs: sys.path.insert(1, x)\n",
    "\n",
    "# Load the libraries\n",
    "import amrwind_frontend as amrwind\n",
    "import matplotlib.pyplot    as plt\n",
    "\n",
    "import numpy as np\n",
    "\n",
    "# Make all plots inline \n",
    "%matplotlib inline"
   ]
  },
  {
   "cell_type": "code",
   "execution_count": 2,
   "id": "fe8f9118-f2aa-4958-96a9-456db6b9124a",
   "metadata": {},
   "outputs": [],
   "source": [
    "# Start the AMR-Wind case\n",
    "case = amrwind.MyApp.init_nogui()"
   ]
  },
  {
   "cell_type": "code",
   "execution_count": 3,
   "id": "68f87028-0282-4123-b9cb-7b7d30b7c338",
   "metadata": {},
   "outputs": [],
   "source": [
    "smallsetup = './Offshore_Stable_Precursor_Coarse.inp'\n",
    "bigsetup   = './Offshore_HighWS_LowTI_Precursor_20kmX20km.inp'"
   ]
  },
  {
   "cell_type": "code",
   "execution_count": 4,
   "id": "e827d632-1932-4a83-8bdf-968a3fe1a6fc",
   "metadata": {},
   "outputs": [
    {
     "name": "stdout",
     "output_type": "stream",
     "text": [
      "CANNOT update: ABLMeanBoussinesq use forcechange=True in setval()\n"
     ]
    },
    {
     "data": {
      "text/plain": [
       "OrderedDict()"
      ]
     },
     "execution_count": 4,
     "metadata": {},
     "output_type": "execute_result"
    }
   ],
   "source": [
    "# Load the starting point\n",
    "case.loadAMRWindInput(smallsetup)"
   ]
  },
  {
   "cell_type": "code",
   "execution_count": 5,
   "id": "04188924-40ad-4b8c-8d7c-f7b74b888092",
   "metadata": {},
   "outputs": [
    {
     "name": "stdout",
     "output_type": "stream",
     "text": [
      "[0.0, 0.0, 0.0]\n",
      "[20480.0, 20480.0, 960.0]\n",
      "[4096, 4096, 192]\n"
     ]
    }
   ],
   "source": [
    "# Change the domain size\n",
    "prob_lo = case.getAMRWindInput('geometry.prob_lo')\n",
    "prob_hi = case.getAMRWindInput('geometry.prob_hi')\n",
    "n_cell  = case.getAMRWindInput('amr.n_cell')\n",
    "\n",
    "# Expand prob_hi\n",
    "case.setAMRWindInput('geometry.prob_hi', [2*10240.0, 2*10240.0, prob_hi[2]])\n",
    "case.setAMRWindInput('amr.n_cell',       [4*1024,    4*1024,    n_cell[2]])\n",
    "\n",
    "print(prob_lo)\n",
    "print(case.getAMRWindInput('geometry.prob_hi'))\n",
    "print(case.getAMRWindInput('amr.n_cell'))"
   ]
  },
  {
   "cell_type": "code",
   "execution_count": 6,
   "id": "f2b8659e-0b34-4882-b070-e9c7666d4188",
   "metadata": {},
   "outputs": [
    {
     "name": "stdout",
     "output_type": "stream",
     "text": [
      "11.5\n",
      "[8.131727983645296, 8.131727983645296, 0.0]\n"
     ]
    }
   ],
   "source": [
    "# Change the wind direction\n",
    "# Set the wind speed and direction\n",
    "case.setAMRWindInput('useWSDir', True)                           # Allows you to specify wind speed + wind direction \n",
    "case.ABL_calculateWDirWS()\n",
    "WS = case.getAMRWindInput('ABL_windspeed') \n",
    "print(WS)\n",
    "\n",
    "case.setAMRWindInput('ABL_windspeed',  WS, forcechange=True)     # Wind speed, unites m/s VARY THIS\n",
    "case.setAMRWindInput('ABL_winddir',   225, forcechange=True)     # Wind direction of 225 degrees, from S-W\n",
    "case.ABL_calculateWindVector()\n",
    "print(case.getAMRWindInput('ABL_velocity'))"
   ]
  },
  {
   "cell_type": "code",
   "execution_count": 7,
   "id": "594ea04d-7147-4e6d-ae4c-f766a06f6e5d",
   "metadata": {},
   "outputs": [],
   "source": [
    "# Change the ABL output frequency\n",
    "case.setAMRWindInput('ABL.stats_output_frequency',  10)\n",
    "\n",
    "# Change the checkpoint interval\n",
    "case.setAMRWindInput('time.checkpoint_interval', 1000)\n",
    "case.setAMRWindInput('io.restart_file', None)"
   ]
  },
  {
   "cell_type": "code",
   "execution_count": 8,
   "id": "a5d88c36-96bd-43bc-acaa-3b2f18c0e50a",
   "metadata": {},
   "outputs": [
    {
     "name": "stdout",
     "output_type": "stream",
     "text": [
      "[]\n",
      "[]\n"
     ]
    }
   ],
   "source": [
    "# Delete all old sampling planes from precursor\n",
    "case.listboxpopupwindict['listboxsampling'].deleteall()\n",
    "case.listboxpopupwindict['listboxpostprosetup'].deleteall()\n",
    "print(case.listboxpopupwindict['listboxsampling'].getitemlist())\n",
    "print(case.listboxpopupwindict['listboxpostprosetup'].getitemlist())"
   ]
  },
  {
   "cell_type": "code",
   "execution_count": 9,
   "id": "94f1aea7-69ca-4c61-b0e3-d46bf8d57c20",
   "metadata": {},
   "outputs": [
    {
     "name": "stdout",
     "output_type": "stream",
     "text": [
      "postprocessing_setup_name: 'samplePlane_'\n",
      "postprocessing_setup_type: 'Sampling'\n",
      "postprocessing_setup_output_frequency: 100\n",
      "postprocessing_setup_fields: ['velocity', 'tke']\n",
      "postprocessing_setup_averaging_window: None\n",
      "postprocessing_setup_averaging_start_time: None\n",
      "postprocessing_setup_averaging_stop_time: None\n"
     ]
    }
   ],
   "source": [
    "samplePlanePostPro = case.get_default_postprosetupdict()\n",
    "samplePlanePostPro['postprocessing_setup_name'] = 'samplePlane_'\n",
    "samplePlanePostPro['postprocessing_setup_type'] = 'Sampling'\n",
    "samplePlanePostPro['postprocessing_setup_output_frequency'] =  100\n",
    "samplePlanePostPro['postprocessing_setup_fields']           =  ['velocity','tke']\n",
    "case.add_postprosetup(samplePlanePostPro, verbose=True)"
   ]
  },
  {
   "cell_type": "code",
   "execution_count": 10,
   "id": "f25c7e62-c590-4b37-883e-e43dc6602786",
   "metadata": {},
   "outputs": [
    {
     "name": "stdout",
     "output_type": "stream",
     "text": [
      "{'sampling_outputto': ['samplePlane_'], 'sampling_name': 'Farm_p_hub', 'sampling_type': 'PlaneSampler', 'sampling_p_num_points': [513, 513], 'sampling_p_origin': array([ 0.,  0., 30.]), 'sampling_p_axis1': array([20480.,     0.,     0.]), 'sampling_p_axis2': array([    0., 20480.,     0.]), 'sampling_p_normal': array([0., 0., 1.]), 'sampling_p_offsets': '0.0 120.0 240.0'}\n",
      "sampling_outputto: ['samplePlane_']\n",
      "sampling_name: 'Farm_p_hub'\n",
      "sampling_type: 'PlaneSampler'\n",
      "sampling_p_num_points: [513, 513]\n",
      "sampling_p_origin: array([ 0.,  0., 30.])\n",
      "sampling_p_axis1: array([20480.,     0.,     0.])\n",
      "sampling_p_axis2: array([    0., 20480.,     0.])\n",
      "sampling_p_normal: array([0., 0., 1.])\n",
      "sampling_p_offsets: '0.0 120.0 240.0'\n"
     ]
    }
   ],
   "source": [
    "samplingcsv=\"\"\"\n",
    "# CSV file should have columns withturbinescsv=\n",
    "# name, type, upstream, downstream, lateral, below, above, n1, n2, options\n",
    "name,   type,     upstream, downstream, lateral, below, above, n1, n2, options\n",
    "p_hub,  hubheight, 0,   0,   0,       120,  120,  11, 11, usedx:40 units:meter center:specified centerx:100 centery:100 centerz:30 wholedomain:1 noffsets:2 outputto:samplePlane_\n",
    "\"\"\"\n",
    "\n",
    "case.setAMRWindInput('sampling_csvtextbox', samplingcsv)\n",
    "case.setAMRWindInput('sampling_deleteprev', True)\n",
    "case.sampling_createAllProbes(verbose=True)\n",
    "#print(case.listboxpopupwindict['listboxsampling'].getitemlist())"
   ]
  },
  {
   "cell_type": "code",
   "execution_count": 11,
   "id": "1b8d1245-ada8-4525-b863-c491eceb492b",
   "metadata": {},
   "outputs": [
    {
     "name": "stdout",
     "output_type": "stream",
     "text": [
      "postprocessing_setup_name: 'metmast_'\n",
      "postprocessing_setup_type: 'Sampling'\n",
      "postprocessing_setup_output_frequency: 1\n",
      "postprocessing_setup_fields: ['velocity']\n",
      "postprocessing_setup_averaging_window: None\n",
      "postprocessing_setup_averaging_start_time: None\n",
      "postprocessing_setup_averaging_stop_time: None\n"
     ]
    }
   ],
   "source": [
    "# set up met masts\n",
    "metmastpprosetup = case.get_default_postprosetupdict()\n",
    "metmastpprosetup['postprocessing_setup_name'] = 'metmast_'\n",
    "metmastpprosetup['postprocessing_setup_type'] = 'Sampling'\n",
    "metmastpprosetup['postprocessing_setup_output_frequency'] =  1\n",
    "metmastpprosetup['postprocessing_setup_fields']           =  ['velocity']\n",
    "case.add_postprosetup(metmastpprosetup, verbose=True)\n",
    "\n",
    "sampledict = case.get_default_samplingdict()\n",
    "sampledict['sampling_name']     = 'metmast_T1'\n",
    "sampledict['sampling_outputto'] = 'metmast_'\n",
    "sampledict['sampling_type']     = 'LineSampler'\n",
    "sampledict['sampling_l_num_points'] = 150\n",
    "sampledict['sampling_l_start']      = [ 2160, 1000, 0]\n",
    "sampledict['sampling_l_end']        = [ 2160, 1000, 0] + np.array([0, 0, 500])\n",
    "case.add_sampling(sampledict, verbose=False)"
   ]
  },
  {
   "cell_type": "code",
   "execution_count": 12,
   "id": "42579803-3fe6-48f7-8160-2a4f70b6d065",
   "metadata": {},
   "outputs": [
    {
     "name": "stdout",
     "output_type": "stream",
     "text": [
      "ESTIMATED MESH SIZE\n",
      "   Level       Ncells                      Cell Size\n",
      "       0   3221225472                5.0 x 5.0 x 5.0\n",
      "  TOTAL:   3221225472\n"
     ]
    }
   ],
   "source": [
    "# Estimate mesh size\n",
    "case.estimateMeshSize(verbose=False)"
   ]
  },
  {
   "cell_type": "code",
   "execution_count": 13,
   "id": "bf8c0e43-2978-4099-b128-0d435eaaa6d2",
   "metadata": {},
   "outputs": [
    {
     "data": {
      "image/png": "[encoded data removed]",
      "text/plain": [
       "<Figure size 750x750 with 1 Axes>"
      ]
     },
     "metadata": {},
     "output_type": "display_data"
    }
   ],
   "source": [
    "fig, ax = plt.subplots(figsize=(6,6), facecolor='w', dpi=125)\n",
    "\n",
    "# Set any additional items to plot\n",
    "case.popup_storteddata['plotdomain']['plot_refineboxes']     = case.listboxpopupwindict['listboxtagging'].getitemlist()\n",
    "case.popup_storteddata['plotdomain']['plot_sampleprobes']    = case.listboxpopupwindict['listboxsampling'].getitemlist() #['p_hub']\n",
    "case.popup_storteddata['plotdomain']['plot_chooseview']      = 'XY' \n",
    "case.popup_storteddata['plotdomain']['plot_sampleprobes_style'] = \"{'markersize':0.1, 'marker':'.', 'linestyle':'None'}\"\n",
    "case.plotDomain(ax=ax)"
   ]
  },
  {
   "cell_type": "code",
   "execution_count": 14,
   "id": "fa2f85cf-a426-45ce-a792-f72cd7b8634d",
   "metadata": {},
   "outputs": [
    {
     "data": {
      "text/plain": [
       "Text(0.5, 1.0, 'Initial Temp. Profile')"
      ]
     },
     "execution_count": 14,
     "metadata": {},
     "output_type": "execute_result"
    },
    {
     "data": {
      "image/png": "[encoded data removed]",
      "text/plain": [
       "<Figure size 750x625 with 2 Axes>"
      ]
     },
     "metadata": {},
     "output_type": "display_data"
    }
   ],
   "source": [
    "fig, axs = plt.subplots(1,2, figsize=(6,5), facecolor='w', dpi=125, sharey=True)\n",
    "\n",
    "# Set any additional items to plot\n",
    "case.popup_storteddata['plotdomain']['plot_refineboxes']     = case.listboxpopupwindict['listboxtagging'].getitemlist()\n",
    "case.popup_storteddata['plotdomain']['plot_sampleprobes']    = ['Farm_p_hub']\n",
    "case.popup_storteddata['plotdomain']['plot_chooseview']      = 'XZ' \n",
    "#case.popup_storteddata['plotdomain']['plot_refineboxes']     = ['box1', 'box2', 'box3'] \n",
    "case.plotDomain(ax=axs[0])\n",
    "axs[0].set_title('Domain resolution')\n",
    "axs[0].axis('auto')\n",
    "axs[0].set_ylim([0,960])\n",
    "\n",
    "case.plotGenericProfile('ABL.temperature_values', 'ABL.temperature_heights', ax=axs[1])\n",
    "axs[1].set_ylim([0,1500])\n",
    "#axs[1].axis('scaled')\n",
    "axs[1].set_xlabel('Temperature [K]')\n",
    "axs[1].set_title('Initial Temp. Profile')"
   ]
  },
  {
   "cell_type": "code",
   "execution_count": 15,
   "id": "0e284d35-908b-4fc0-90a2-f9ea22b29ffb",
   "metadata": {},
   "outputs": [
    {
     "name": "stdout",
     "output_type": "stream",
     "text": [
      "# --- Simulation time control parameters ---\n",
      "time.stop_time                           = 35000.0             # Max (simulated) time to evolve [s]\n",
      "time.max_step                            = -1                  \n",
      "time.fixed_dt                            = 0.25                # Fixed timestep size (in seconds). If negative, then time.cfl is used\n",
      "time.checkpoint_interval                 = 1000                \n",
      "incflo.physics                           = ABL                 # List of physics models to include in simulation.\n",
      "incflo.verbose                           = 3                   \n",
      "io.check_file                            = chk                 \n",
      "incflo.use_godunov                       = true                \n",
      "incflo.godunov_type                      = weno_z              \n",
      "turbulence.model                         = OneEqKsgsM84        \n",
      "TKE.source_terms                         = KsgsM84Src          \n",
      "nodal_proj.mg_rtol                       = 1e-06               \n",
      "nodal_proj.mg_atol                       = 1e-12               \n",
      "mac_proj.mg_rtol                         = 1e-06               \n",
      "mac_proj.mg_atol                         = 1e-12               \n",
      "diffusion.mg_rtol                        = 1e-06               \n",
      "diffusion.mg_atol                        = 1e-12               \n",
      "temperature_diffusion.mg_rtol            = 1e-10               \n",
      "temperature_diffusion.mg_atol            = 1e-13               \n",
      "incflo.gravity                           = 0.0 0.0 -9.81       # Gravitational acceleration vector (x,y,z) [m/s^2]\n",
      "incflo.density                           = 1.2456              # Fluid density [kg/m^3]\n",
      "transport.viscosity                      = 1.771e-05           # Fluid dynamic viscosity [kg/m-s]\n",
      "transport.laminar_prandtl                = 0.7                 # Laminar prandtl number\n",
      "transport.turbulent_prandtl              = 0.3333              # Turbulent prandtl number\n",
      "\n",
      "# --- Geometry and Mesh ---\n",
      "geometry.prob_lo                         = 0.0 0.0 0.0         \n",
      "geometry.prob_hi                         = 20480.0 20480.0 960.0\n",
      "amr.n_cell                               = 4096 4096 192       # Number of cells in x, y, and z directions\n",
      "amr.max_level                            = 0                   \n",
      "geometry.is_periodic                     = 1 1 0               \n",
      "zlo.type                                 = wall_model          \n",
      "zlo.temperature_type                     = wall_model          \n",
      "zlo.tke_type                             = zero_gradient       \n",
      "zhi.type                                 = slip_wall           \n",
      "zhi.temperature_type                     = fixed_gradient      \n",
      "zhi.temperature                          = 0.003               \n",
      "\n",
      "# --- ABL parameters ---\n",
      "ICNS.source_terms                        = ABLForcing BoussinesqBuoyancy CoriolisForcing ABLMeanBoussinesq\n",
      "ABL.stats_output_frequency               = 10                  \n",
      "ABL.stats_output_format                  = netcdf              \n",
      "ABL.bndry_io_mode                        = 0                   \n",
      "ABL.bndry_file                           = bndry_data          \n",
      "ABL.bndry_planes                         = xlo                 \n",
      "ABL.bndry_output_start_time              = 25000.0             \n",
      "ABL.bndry_var_names                      = velocity temperature tke\n",
      "ABL.bndry_output_format                  = native              \n",
      "incflo.velocity                          = 8.131727983645296 8.131727983645296 0.0\n",
      "ABLForcing.abl_forcing_height            = 150.0               \n",
      "ABL.kappa                                = 0.4                 \n",
      "ABL.normal_direction                     = 2                   \n",
      "ABL.surface_roughness_z0                 = 0.0003              \n",
      "ABL.reference_temperature                = 284.47              \n",
      "ABL.surface_temp_rate                    = -0.145              \n",
      "ABL.mo_beta_m                            = 16.0                # Monin-Obukhov Beta m parameter\n",
      "ABL.mo_gamma_m                           = 5.0                 # Monin-Obukhov Gamma m parameter\n",
      "ABL.mo_gamma_h                           = 5.0                 # Monin-Obukhov Gamma h parameter\n",
      "ABL.random_gauss_mean                    = 0.0                 \n",
      "ABL.random_gauss_var                     = 1.0                 \n",
      "CoriolisForcing.latitude                 = 39.55               \n",
      "CoriolisForcing.rotational_time_period   = 86164.0900027328    \n",
      "CoriolisForcing.north_vector             = 0.0 1.0 0.0         \n",
      "CoriolisForcing.east_vector              = 1.0 0.0 0.0         \n",
      "BoussinesqBuoyancy.reference_temperature = 284.47              \n",
      "ABL.temperature_heights                  = 0       700.0  800.0  960.0\n",
      "ABL.temperature_values                   = 284.47  284.47 292.47 292.95\n",
      "ABL.perturb_velocity                     = false               \n",
      "ABL.perturb_temperature                  = false               \n",
      "time.plot_interval                       = 5000                \n",
      "io.plot_file                             = plt                 \n",
      "io.KE_int                                = -1                  \n",
      "\n",
      "#---- postprocessing defs ----\n",
      "incflo.post_processing                   = samplePlane_ metmast_\n",
      "samplePlane_.type                        = Sampling            \n",
      "samplePlane_.output_frequency            = 100                 \n",
      "samplePlane_.fields                      = velocity tke        \n",
      "metmast_.type                            = Sampling            \n",
      "metmast_.output_frequency                = 1                   \n",
      "metmast_.fields                          = velocity            \n",
      "\n",
      "#---- sample defs ----\n",
      "samplePlane_.labels                      = Farm_p_hub          \n",
      "metmast_.labels                          = metmast_T1          \n",
      "samplePlane_.Farm_p_hub.type             = PlaneSampler        \n",
      "samplePlane_.Farm_p_hub.num_points       = 513 513             \n",
      "samplePlane_.Farm_p_hub.origin           = 0.0 0.0 30.0        \n",
      "samplePlane_.Farm_p_hub.axis1            = 20480.0 0.0 0.0     \n",
      "samplePlane_.Farm_p_hub.axis2            = 0.0 20480.0 0.0     \n",
      "samplePlane_.Farm_p_hub.normal           = 0.0 0.0 1.0         \n",
      "samplePlane_.Farm_p_hub.offsets          = 0.0 120.0 240.0     \n",
      "metmast_.metmast_T1.type                 = LineSampler         \n",
      "metmast_.metmast_T1.num_points           = 150                 \n",
      "metmast_.metmast_T1.start                = 2160.0 1000.0 0.0   \n",
      "metmast_.metmast_T1.end                  = 2160.0 1000.0 500.0 \n",
      "\n",
      "#---- extra params ----\n",
      "#== END AMR-WIND INPUT ==\n",
      "\n"
     ]
    }
   ],
   "source": [
    "# Write the input file\n",
    "print(case.writeAMRWindInput(bigsetup))"
   ]
  },
  {
   "cell_type": "code",
   "execution_count": null,
   "id": "9d88d5b6-849e-422d-8b07-fbce071f0d08",
   "metadata": {},
   "outputs": [],
   "source": []
  }
 ],
 "metadata": {
  "kernelspec": {
   "display_name": "Python 3 (ipykernel)",
   "language": "python",
   "name": "python3"
  },
  "language_info": {
   "codemirror_mode": {
    "name": "ipython",
    "version": 3
   },
   "file_extension": ".py",
   "mimetype": "text/x-python",
   "name": "python",
   "nbconvert_exporter": "python",
   "pygments_lexer": "ipython3",
   "version": "3.9.13"
  }
 },
 "nbformat": 4,
 "nbformat_minor": 5
}
