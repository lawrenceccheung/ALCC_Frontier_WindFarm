{
 "cells": [
  {
   "cell_type": "markdown",
   "id": "60d95572-7795-4931-a0f0-5a7304f7fde8",
   "metadata": {},
   "source": [
    "# Postprocess offshore wind met-ocean conditions (JONSWAP)"
   ]
  },
  {
   "cell_type": "code",
   "execution_count": 1,
   "id": "e797d64b-b162-4b45-8e0a-3662c0c5ba17",
   "metadata": {},
   "outputs": [],
   "source": [
    "%%capture \n",
    "\n",
    "# Important libraries header information\n",
    "# ----------------------------------\n",
    "\n",
    "# change this directory as necessary\n",
    "# Add any possible locations of amr-wind-frontend here\n",
    "amrwindfedirs = ['/ascldap/users/lcheung/wind_uq/amrwind-frontend/',\n",
    "                 '/ccs/proj/cfd162/lcheung/amrwind-frontend/']\n",
    "import sys, os, shutil\n",
    "for x in amrwindfedirs: sys.path.insert(1, x)\n",
    "\n",
    "# Load the libraries\n",
    "import matplotlib.pyplot as plt\n",
    "import amrwind_frontend  as amrwind\n",
    "import numpy             as np\n",
    "from matplotlib import cm\n",
    "import re\n",
    "import time\n",
    "\n",
    "import pandas as pd\n",
    "from io import StringIO\n",
    "\n",
    "# Also ignore warnings\n",
    "import warnings\n",
    "warnings.filterwarnings('ignore')\n",
    "\n",
    "# Make all plots inline \n",
    "%matplotlib inline"
   ]
  },
  {
   "cell_type": "code",
   "execution_count": 2,
   "id": "57bfb044-0168-416a-a39d-f7301e37f71f",
   "metadata": {},
   "outputs": [],
   "source": [
    "def plotrotorlines(zhh, rotorD, xstart, xend, **kwargs):\n",
    "    plt.hlines(zhh,             xstart, xend, linewidth=1.0, **kwargs) # Plot the HH line\n",
    "    plt.hlines(zhh+rotorD*0.5,  xstart, xend, linewidth=0.5, **kwargs) # Plot the HH line\n",
    "    plt.hlines(zhh-rotorD*0.5,  xstart, xend, linewidth=0.5, **kwargs) # Plot the HH line  "
   ]
  },
  {
   "cell_type": "markdown",
   "id": "776b4f73-8ee9-454a-b095-0d8d13a08497",
   "metadata": {},
   "source": [
    "## Postprocess and compare AMR-Wind velocity profiles"
   ]
  },
  {
   "cell_type": "code",
   "execution_count": 3,
   "id": "036f2d1e-8f64-4d14-a5cd-6cf94e30e1e8",
   "metadata": {},
   "outputs": [],
   "source": [
    " # Set your run directory here\n",
    "#casedir = '/nscratch/lcheung/2021/SWIFT_Neutral_WS8.7_Alpha0.14/AMRWind_Precursor/precursor1'\n",
    "rundir='/lustre/orion/cfd162/scratch/lcheung/ALCC_Frontier_WindFarm/MedWS_LowTI'\n",
    "caselist = [   \n",
    "            {'rundir':rundir+'/precursor6_4kmX2km_5m', 'tag':'precursor6 4x2',\n",
    "             'inputfile':'MedWS_LowTI_precursor1.inp',\n",
    "             'ncfile':'post_processing/abl_statistics45000.nc', 'avgtimes':[25000, 30000],\n",
    "             'mstyle':{'mfc':'y', 'marker':'^', 'lw':0, 'mec':'k',}, 'lstyle':{'color':'orange', 'ls':':'}},           \n",
    "            {'rundir':rundir+'/precursor6_7kmX2km_5m', 'tag':'precursor6 7x2',\n",
    "             'inputfile':'MedWS_LowTI_Offshore_Stable_Precursor_Coarse.inp',\n",
    "             'ncfile':'post_processing/abl_statistics00000.nc', 'avgtimes':[25000, 30000],\n",
    "             'mstyle':{'mfc':'y', 'marker':'v', 'lw':0, 'mec':'k',}, 'lstyle':{'color':'orange', 'ls':'-.'}},           \n",
    "]\n",
    "\n",
    "# Average between 15,000 sec to 20,000 sec\n",
    "avgtimes = [25000, 30000]\n",
    "\n",
    "# Hub-height locations\n",
    "plotheights=[30, 90, 150, 270]\n",
    "\n",
    "zHH_target    = 150.0\n",
    "rotorD        = 240\n",
    "bottom_tip    = zHH_target - 0.5*rotorD\n",
    "top_tip       = zHH_target + 0.5*rotorD\n",
    "\n",
    "# Load the entire netcdf in memory\n",
    "loadinmemory = False   # Do this only if there's enough RAM and for new (python 3+ netCDF4) libraries"
   ]
  },
  {
   "cell_type": "code",
   "execution_count": 4,
   "id": "320b4b97-8b8a-45ca-8202-ab2d745f805e",
   "metadata": {},
   "outputs": [
    {
     "name": "stdout",
     "output_type": "stream",
     "text": [
      "Loading /lustre/orion/cfd162/scratch/lcheung/ALCC_Frontier_WindFarm/MedWS_LowTI/precursor6_4kmX2km_5m/post_processing/abl_statistics45000.nc\n",
      "Time range: 18000.800000 to 30000.000000\n",
      "Done.\n",
      "Load time: 6.224638 sec\n",
      "Loading /lustre/orion/cfd162/scratch/lcheung/ALCC_Frontier_WindFarm/MedWS_LowTI/precursor6_7kmX2km_5m/post_processing/abl_statistics00000.nc\n",
      "Time range: 1.000000 to 30000.000000\n",
      "Done.\n",
      "Load time: 12.464236 sec\n"
     ]
    }
   ],
   "source": [
    "for case in caselist:\n",
    "    case['App'] = amrwind.MyApp.init_nogui()\n",
    "    tstart = time.time()\n",
    "    case['App'].ABLpostpro_loadnetcdffile(case['rundir']+'/'+case['ncfile'], usemmap=loadinmemory)\n",
    "    tend   = time.time()\n",
    "    print(\"Load time: %f sec\"%(tend-tstart))"
   ]
  },
  {
   "cell_type": "code",
   "execution_count": 5,
   "id": "ffbdbdb6-df33-46a0-8c69-7c8fc7033498",
   "metadata": {},
   "outputs": [
    {
     "name": "stdout",
     "output_type": "stream",
     "text": [
      "***** precursor6 4x2 *******\n",
      "Loading w'theta'_r\n",
      "Loading w'w'_r\n",
      "Loading v\n",
      "Loading v'v'_r\n",
      "Loading theta\n",
      "Loading u\n",
      "Loading u'u'_r\n",
      "        z       Uhoriz      WindDir       TI_TKE     TI_horiz        Alpha    Alpha-Fit     ObukhovL         Veer     Veer-Fit \n",
      "      ===         ====         ====         ====         ====         ====         ====         ====         ====         ==== \n",
      "    30.00 6.929304e+00 2.641424e+02 4.610156e-02 7.485359e-02 1.388864e-01 1.751899e-01 2.584811e+02 5.673989e-02 5.268938e-02 \n",
      "    90.00 8.214372e+00 2.668964e+02 3.130968e-02 4.894094e-02 1.723174e-01 1.751899e-01 3.361394e+02 4.835241e-02 5.268938e-02 \n",
      "   150.00 9.029968e+00 2.700017e+02 2.394898e-02 3.746787e-02 1.862016e-01 1.751899e-01 5.327082e+02 5.477850e-02 5.268938e-02 \n",
      "   270.00 9.991643e+00 2.766277e+02 1.484978e-02 2.330630e-02 1.326986e-01 1.751899e-01 1.570657e+03 5.174361e-02 5.268938e-02 \n",
      "\n",
      "ustar: 0.212511\n",
      "Compute time: 15.223085 sec\n",
      "***** precursor6 7x2 *******\n",
      "Loading w'theta'_r\n",
      "Loading w'w'_r\n",
      "Loading v\n",
      "Loading v'v'_r\n",
      "Loading theta\n",
      "Loading u\n",
      "Loading u'u'_r\n",
      "        z       Uhoriz      WindDir       TI_TKE     TI_horiz        Alpha    Alpha-Fit     ObukhovL         Veer     Veer-Fit \n",
      "      ===         ====         ====         ====         ====         ====         ====         ====         ====         ==== \n",
      "    30.00 6.926473e+00 2.640879e+02 4.599414e-02 7.472151e-02 1.408517e-01 1.749926e-01 2.590750e+02 5.557709e-02 5.290744e-02 \n",
      "    90.00 8.218550e+00 2.668709e+02 3.134850e-02 4.906304e-02 1.715159e-01 1.749926e-01 3.332970e+02 4.838356e-02 5.290744e-02 \n",
      "   150.00 9.029990e+00 2.700009e+02 2.407198e-02 3.770523e-02 1.859481e-01 1.749926e-01 5.267984e+02 5.548713e-02 5.290744e-02 \n",
      "   270.00 9.992601e+00 2.766064e+02 1.485110e-02 2.336733e-02 1.299221e-01 1.749926e-01 1.583792e+03 5.116304e-02 5.290744e-02 \n",
      "\n",
      "ustar: 0.211856\n",
      "Compute time: 46.736897 sec\n"
     ]
    }
   ],
   "source": [
    "# First, let's look at the averaged statistics\n",
    "for case in caselist:\n",
    "    print(\"***** \"+case['tag']+\" *******\")\n",
    "    tstart = time.time()\n",
    "    case['reportstats'] = case['App'].ABLpostpro_printreport(avgt=case['avgtimes'], avgz=plotheights,span=(bottom_tip,top_tip))\n",
    "    tend   = time.time()\n",
    "    print(\"Compute time: %f sec\"%(tend-tstart))"
   ]
  },
  {
   "cell_type": "markdown",
   "id": "d0b7ca59-6b99-4309-a3d9-aaead73c7fcd",
   "metadata": {},
   "source": [
    "## Load met ocean conditions\n",
    "Download the data from: https://www.nrel.gov/wind/nwtc/metocean-data.html and the excel sheet at \n",
    "https://www.nrel.gov/wind/nwtc/assets/downloads/MetOcean/DistributionParameters.xlsx\n",
    "Read the paper: https://onlinelibrary.wiley.com/doi/abs/10.1002/we.1881"
   ]
  },
  {
   "cell_type": "code",
   "execution_count": 6,
   "id": "47fc8be9-e97a-4179-946c-4d7495db185c",
   "metadata": {},
   "outputs": [],
   "source": [
    "JONSWAP_param = \"\"\"\n",
    "WindSpeed,SigWaveHeight,PeakSpectralPeriod,Directionality\n",
    "4.00,\t1.10,\t\t\t8.52,\t\t\t-20.81915116\n",
    "6.00,\t1.18,\t\t\t8.31,\t\t\t-28.5540023\n",
    "8.00,\t1.32,\t\t\t8.01,\t\t\t-27.38277538\n",
    "10.00,\t1.54,\t\t\t7.65,\t\t\t-19.40350485\n",
    "12.00,\t1.84,\t\t\t7.44,\t\t\t-12.28992154\n",
    "14.00,\t2.19,\t\t\t7.46,\t\t\t-10.39386558\n",
    "16.00,\t2.60,\t\t\t7.64,\t\t\t-7.153822365\n",
    "18.00,\t3.06,\t\t\t8.05,\t\t\t-4.813508643\n",
    "20.00,\t3.62,\t\t\t8.52,\t\t\t-1.548944606\n",
    "22.00,\t4.03,\t\t\t8.99,\t\t\t5.434583753\n",
    "24.00,\t4.52,\t\t\t9.45,\t\t\t7.044655005\n",
    "\"\"\""
   ]
  },
  {
   "cell_type": "code",
   "execution_count": 7,
   "id": "f935446d-3084-49ed-bea2-5796c759d096",
   "metadata": {},
   "outputs": [
    {
     "name": "stdout",
     "output_type": "stream",
     "text": [
      "    WindSpeed  SigWaveHeight  PeakSpectralPeriod  Directionality\n",
      "0         4.0           1.10                8.52      -20.819151\n",
      "1         6.0           1.18                8.31      -28.554002\n",
      "2         8.0           1.32                8.01      -27.382775\n",
      "3        10.0           1.54                7.65      -19.403505\n",
      "4        12.0           1.84                7.44      -12.289922\n",
      "5        14.0           2.19                7.46      -10.393866\n",
      "6        16.0           2.60                7.64       -7.153822\n",
      "7        18.0           3.06                8.05       -4.813509\n",
      "8        20.0           3.62                8.52       -1.548945\n",
      "9        22.0           4.03                8.99        5.434584\n",
      "10       24.0           4.52                9.45        7.044655\n"
     ]
    }
   ],
   "source": [
    "df = pd.read_csv(StringIO(JONSWAP_param))\n",
    "#print(np.interp(8.22, df['WindSpeed'], df['SigWaveHeight']))\n",
    "print(df)"
   ]
  },
  {
   "cell_type": "code",
   "execution_count": 8,
   "id": "7499b287-9e0f-4395-bfc1-6535d0568896",
   "metadata": {},
   "outputs": [
    {
     "name": "stdout",
     "output_type": "stream",
     "text": [
      "***** precursor6 4x2 *******\n",
      "SigWaveHeight = 1.343581\n",
      "PeakSpectralPeriod = 7.971413\n",
      "Directionality = -26.527507\n",
      "***** precursor6 7x2 *******\n",
      "SigWaveHeight = 1.344040\n",
      "PeakSpectralPeriod = 7.970661\n",
      "Directionality = -26.510842\n"
     ]
    }
   ],
   "source": [
    "for case in caselist:\n",
    "    print(\"***** \"+case['tag']+\" *******\")\n",
    "    WS90=float(case['reportstats']['Uhoriz'][1])\n",
    "    print('SigWaveHeight = %f'%np.interp(WS90, df['WindSpeed'], df['SigWaveHeight']))\n",
    "    print('PeakSpectralPeriod = %f'%np.interp(WS90, df['WindSpeed'], df['PeakSpectralPeriod']))\n",
    "    print('Directionality = %f'%np.interp(WS90, df['WindSpeed'], df['Directionality']))\n",
    "    #print(WS90)"
   ]
  },
  {
   "cell_type": "code",
   "execution_count": null,
   "id": "5573bed6-9529-44ee-93b1-c17e1f61e40e",
   "metadata": {},
   "outputs": [],
   "source": []
  }
 ],
 "metadata": {
  "kernelspec": {
   "display_name": "Python 3 (ipykernel)",
   "language": "python",
   "name": "python3"
  },
  "language_info": {
   "codemirror_mode": {
    "name": "ipython",
    "version": 3
   },
   "file_extension": ".py",
   "mimetype": "text/x-python",
   "name": "python",
   "nbconvert_exporter": "python",
   "pygments_lexer": "ipython3",
   "version": "3.9.13"
  }
 },
 "nbformat": 4,
 "nbformat_minor": 5
}
