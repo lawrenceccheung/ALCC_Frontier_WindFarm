{
 "cells": [
  {
   "cell_type": "markdown",
   "id": "773239ad-e220-4ce2-a45b-7bb08dde0f8b",
   "metadata": {},
   "source": [
    "# Set up wind farm run"
   ]
  },
  {
   "cell_type": "code",
   "execution_count": 1,
   "id": "f0216dc2-38f7-4c62-a457-e6353f2de665",
   "metadata": {},
   "outputs": [],
   "source": [
    "# Add any possible locations of amr-wind-frontend here\n",
    "amrwindfedirs = ['/ascldap/users/lcheung/wind_uq/amrwind-frontend/',\n",
    "                 '/ccs/proj/cfd162/lcheung/amrwind-frontend/']\n",
    "import sys, os, shutil\n",
    "for x in amrwindfedirs: sys.path.insert(1, x)\n",
    "\n",
    "# Load the libraries\n",
    "import amrwind_frontend  as amrwind\n",
    "import matplotlib.pyplot as plt\n",
    "import numpy             as np\n",
    "import math\n",
    "import pandas as pd\n",
    "import postproamrwindsample as ppsample\n",
    "import time\n",
    "import utm\n",
    "\n",
    "# Also ignore warnings\n",
    "import warnings\n",
    "warnings.filterwarnings('ignore')\n",
    "\n",
    "# Make all plots inline \n",
    "%matplotlib inline"
   ]
  },
  {
   "cell_type": "code",
   "execution_count": 2,
   "id": "eef37c6f-e1a9-480b-a20e-90e863a7464b",
   "metadata": {},
   "outputs": [],
   "source": [
    "# Start the AMR-Wind case\n",
    "case = amrwind.MyApp.init_nogui()"
   ]
  },
  {
   "cell_type": "code",
   "execution_count": 3,
   "id": "7fc3d812-74a8-4d70-9865-59da95629074",
   "metadata": {},
   "outputs": [
    {
     "name": "stdout",
     "output_type": "stream",
     "text": [
      "CANNOT update: ABLMeanBoussinesq use forcechange=True in setval()\n"
     ]
    },
    {
     "data": {
      "text/plain": [
       "OrderedDict()"
      ]
     },
     "execution_count": 3,
     "metadata": {},
     "output_type": "execute_result"
    }
   ],
   "source": [
    "# Location of precursor run with boundary data\n",
    "precursordir  = '/lustre/orion/cfd162/scratch/lcheung/ALCC_Frontier_WindFarm/MedWS_LowTI/precursor6_4kmX2km_5m.bndrydata'\n",
    "precursorsetup= precursordir+'/MedWS_LowTI_precursor1_spectra.inp'\n",
    "\n",
    "# Location of farm run dir\n",
    "farmrundir       = './rundir'\n",
    "outputfile       = 'MedWS_LowTI_farmrun1.inp'\n",
    "noturboutputfile = 'MedWS_LowTI_farmrun1_noturbs.inp'\n",
    "\n",
    "verbose          = True\n",
    "cwd              = os.getcwd()\n",
    "\n",
    "# Go to the run directory\n",
    "if not os.path.exists(farmrundir):\n",
    "    os.makedirs(farmrundir)\n",
    "os.chdir(farmrundir)\n",
    "\n",
    "# Load the starting point\n",
    "case.loadAMRWindInput(precursorsetup)"
   ]
  },
  {
   "cell_type": "code",
   "execution_count": 4,
   "id": "793130ec-678b-4b9e-baca-4e23c74d3c5f",
   "metadata": {},
   "outputs": [],
   "source": [
    "tstart = 26000 #chk65000 16125\n",
    "tstop  = tstart+900\n",
    "textra = 500"
   ]
  },
  {
   "cell_type": "code",
   "execution_count": 5,
   "id": "5b1d08e1-c3e4-4e69-a798-93d461503300",
   "metadata": {},
   "outputs": [],
   "source": [
    "# Set the time constants\n",
    "case.setAMRWindInput('time.stop_time', tstop)\n",
    "case.setAMRWindInput('time.fixed_dt', 0.02)\n",
    "case.setAMRWindInput('time.max_step',  -1)"
   ]
  },
  {
   "cell_type": "code",
   "execution_count": 6,
   "id": "5dbb9c10-13e0-418b-8d77-738f08f73f8b",
   "metadata": {},
   "outputs": [],
   "source": [
    "# Set the restart point\n",
    "chkdir = precursordir+'/chk65000/'\n",
    "case.setAMRWindInput('restart_file', os.path.realpath(chkdir))"
   ]
  },
  {
   "cell_type": "code",
   "execution_count": 7,
   "id": "cf5f2229-e82e-477e-9ef2-408b9236c310",
   "metadata": {},
   "outputs": [],
   "source": [
    "# Set the boundary input file parameters\n",
    "ablstatfile = precursordir+'/post_processing/abl_statistics60000.nc'\n",
    "#tavg        =  [tstart, tstop]\n",
    "tavg        = [27473.2, 27473.2+600]\n",
    "forcingdict = {'ablstatfile':ablstatfile, 'tavg':tavg}\n",
    "inflowplanes= ['xlo'] #['ylo', 'xhi']\n",
    "bndryfiles  = precursordir+'/bndry_data'"
   ]
  },
  {
   "cell_type": "code",
   "execution_count": 8,
   "id": "dde163a7-74dc-42b0-9c33-69c5b7593156",
   "metadata": {},
   "outputs": [
    {
     "name": "stdout",
     "output_type": "stream",
     "text": [
      "SET ABL_bndry_io_mode = '1'\n",
      "SET ABL_bndry_file = '/lustre/orion/cfd162/scratch/lcheung/ALCC_Frontier_WindFarm/MedWS_LowTI/precursor6_4kmX2km_5m.bndrydata/bndry_data'\n",
      "SET ABL_bndry_planes = ['xlo']\n",
      "SET is_periodicx = False\n",
      "SET xlo_type = 'mass_inflow'\n",
      "SET xlo_density = 1.2456\n",
      "SET xlo_temperature = 0.0\n",
      "SET xlo_tke = 0.0\n",
      "SET xhi_type = 'pressure_outflow'\n",
      "SET xhi_density = None\n",
      "SET xhi_temperature = None\n",
      "SET xhi_tke = None\n",
      "SET BodyForce = True\n",
      "SET BodyForce_magnitude = [0.00014808429120586095, 0.0008354164279411971, 0.0]\n",
      "SET ABLForcing = False\n",
      "SET ABLMeanBoussinesq = True\n",
      "SET wall_shear_stress_type = 'local'\n",
      "SET checkpoint_start = 65000\n"
     ]
    }
   ],
   "source": [
    "case.boundaryplane_restart(bndryfiles=bndryfiles, \n",
    "                           forcingdict=forcingdict, \n",
    "                           inflowplanes=inflowplanes, \n",
    "                           checkpointdir=chkdir,\n",
    "                           verbose=True)"
   ]
  },
  {
   "cell_type": "code",
   "execution_count": 9,
   "id": "6d03aca5-bb11-41b8-93a8-02b674503961",
   "metadata": {},
   "outputs": [],
   "source": [
    "# Add the turbine specifications flag\n",
    "## Note that the options field can have things like:\n",
    "##    ADparam_TwrAero:False ADparam_TwrShadow:0 FSTparam_TMax:181234.0\n",
    "OFoptions=(\"ADparam_TwrAero:True ADparam_TwrShadow:0 FSTparam_CompHydro:0 FSTparam_CompSub:0 \"\n",
    "           \"EDparam_YawDOF:False \"\n",
    "           \"EDparam_PtfmSgDOF:False \"\n",
    "           \"EDparam_PtfmSwDOF:False \"\n",
    "           \"EDparam_PtfmHvDOF:False \"\n",
    "           \"EDparam_PtfmRDOF:False \"\n",
    "           \"EDparam_PtfmPDOF:False \"\n",
    "           \"EDparam_PtfmYDOF:False \"           \n",
    "          )\n",
    "\n",
    "#\"EDparam_RotSpeed:5.00 \"\n",
    "\n",
    "## To specify changes to the OpenFAST model\n",
    "turbinescsv=\"\"\"\n",
    "# CSV file should have columns with\n",
    "# name, x, y, type, yaw, hubheight, options\n",
    "T0,     2280, 1000, IEA15MW_ALM, 270.0, , {OFoptions}\n",
    "\"\"\".format(OFoptions=OFoptions)\n",
    "case.setAMRWindInput('turbines_csvtextbox',  turbinescsv)"
   ]
  },
  {
   "cell_type": "code",
   "execution_count": 10,
   "id": "6d91403d-de6d-42ec-9314-46039a9623e6",
   "metadata": {},
   "outputs": [
    {
     "name": "stdout",
     "output_type": "stream",
     "text": [
      "docopy = True from /autofs/nccs-svm1_proj/cfd162/lcheung/ALCC_Frontier_WindFarm/turbines/turbinedef/OpenFAST3p4_IEA15MW to T0_OpenFAST3p4_IEA15MW\n",
      "T0_OpenFAST3p4_IEA15MW/IEA-15-240-RWT-Monopile/IEA-15-240-RWT-Monopile.fst\n",
      "OrderedDict([('CompHydro', 0), ('CompSub', 0)])\n",
      "OrderedDict([('TwrAero', 'True'), ('TwrShadow', 0)])\n",
      "OrderedDict([('YawDOF', 'False'), ('PtfmSgDOF', 'False'), ('PtfmSwDOF', 'False'), ('PtfmHvDOF', 'False'), ('PtfmRDOF', 'False'), ('PtfmPDOF', 'False'), ('PtfmYDOF', 'False')])\n"
     ]
    },
    {
     "name": "stderr",
     "output_type": "stream",
     "text": [
      "         0 CompHydro - Compute hydrodynamic loads (switch) {0=None 1=HydroDyn} [EDITED]\n",
      "         0 CompSub - Compute sub-structural dynamics (switch) {0=None 1=SubDyn 2=External Platform MCKF} [EDITED]\n",
      "         0 TwrShadow - Calculate tower influence on wind based on downstream tower shadow (switch) {0=none 1=Powles model 2=Eames model} [EDITED]\n",
      "      True TwrAero - Calculate tower aerodynamic loads? (flag) [EDITED]\n",
      "     False YawDOF - Yaw DOF (flag) [EDITED]\n",
      "     False PtfmSgDOF - Platform horizontal surge translation DOF (flag) [EDITED]\n",
      "     False PtfmSwDOF - Platform horizontal sway translation DOF (flag) [EDITED]\n",
      "     False PtfmHvDOF - Platform vertical heave translation DOF (flag) [EDITED]\n",
      "     False PtfmRDOF - Platform roll tilt rotation DOF (flag) [EDITED]\n",
      "     False PtfmPDOF - Platform pitch tilt rotation DOF (flag) [EDITED]\n",
      "     False PtfmYDOF - Platform yaw rotation DOF (flag) [EDITED]\n"
     ]
    }
   ],
   "source": [
    "case.setAMRWindInput('turbines_createnewdomain', False)\n",
    "case.setAMRWindInput('turbines_deleteprev', True)\n",
    "\n",
    "case.turbines_createAllTurbines()"
   ]
  },
  {
   "cell_type": "code",
   "execution_count": 11,
   "id": "1e67a376-ddc1-44ab-96e1-354920dad37b",
   "metadata": {},
   "outputs": [
    {
     "data": {
      "image/png": "[encoded data removed]",
      "text/plain": [
       "<Figure size 750x750 with 1 Axes>"
      ]
     },
     "metadata": {},
     "output_type": "display_data"
    }
   ],
   "source": [
    "# Preview the turbine layout\n",
    "fig, ax = plt.subplots(figsize=(5,5), facecolor='w', dpi=150)\n",
    "case.turbines_previewAllTurbines(ax=ax)"
   ]
  },
  {
   "cell_type": "markdown",
   "id": "10a15f5f-c77f-49f8-b285-d57292ba5ec9",
   "metadata": {},
   "source": [
    "## Make refinement regions"
   ]
  },
  {
   "cell_type": "code",
   "execution_count": 12,
   "id": "6b17d683-b418-478a-8b79-504d1b53ec75",
   "metadata": {},
   "outputs": [],
   "source": [
    "refinementcsv=\"\"\"\n",
    "# CSV file should have columns with\n",
    "# level, upstream, downstream, lateral, below, above, options\n",
    "level, upstream, downstream, lateral, below, above, options\n",
    "0,     5,        5,         3,       0.80,     2,     center:farm\n",
    "1,     1.0,      1.0,        1.00,   0.80,   1.0,  \n",
    "\"\"\"\n",
    "case.setAMRWindInput('refine_csvtextbox', refinementcsv)\n",
    "case.setAMRWindInput('refine_deleteprev', True)"
   ]
  },
  {
   "cell_type": "code",
   "execution_count": 13,
   "id": "f2d55ef8-a1db-4eb5-bd99-489a808865ab",
   "metadata": {},
   "outputs": [
    {
     "name": "stdout",
     "output_type": "stream",
     "text": [
      "['Farm_level_0_zone', 'T0_level_1_zone']\n"
     ]
    }
   ],
   "source": [
    "case.refine_createAllZones()\n",
    "# Print out existing list of refinement zones\n",
    "print(case.listboxpopupwindict['listboxtagging'].getitemlist())"
   ]
  },
  {
   "cell_type": "code",
   "execution_count": 14,
   "id": "ba933594-ba95-4ae8-8632-04646a04c9fb",
   "metadata": {},
   "outputs": [
    {
     "name": "stdout",
     "output_type": "stream",
     "text": [
      "ESTIMATED MESH SIZE\n",
      "   Level       Ncells                      Cell Size\n",
      "       0     70041600                5.0 x 5.0 x 5.0\n",
      "       1    148635648                2.5 x 2.5 x 2.5\n",
      "       2     50960793             1.25 x 1.25 x 1.25\n",
      "  TOTAL:    269638041\n"
     ]
    }
   ],
   "source": [
    "# Estimate mesh size\n",
    "case.estimateMeshSize(verbose=False)"
   ]
  },
  {
   "cell_type": "code",
   "execution_count": 15,
   "id": "1b8ded47-0ffb-4a60-9346-55689686a8fc",
   "metadata": {},
   "outputs": [
    {
     "data": {
      "image/png": "[encoded data removed]",
      "text/plain": [
       "<Figure size 625x625 with 1 Axes>"
      ]
     },
     "metadata": {},
     "output_type": "display_data"
    }
   ],
   "source": [
    "# Plot the domain\n",
    "fig, ax2 = plt.subplots(figsize=(5,5), facecolor='w', dpi=125)\n",
    "case.popup_storteddata['plotdomain']['plot_chooseview']      = 'XY'\n",
    "case.popup_storteddata['plotdomain']['plot_turbines']        = case.listboxpopupwindict['listboxactuator'].getitemlist()\n",
    "case.popup_storteddata['plotdomain']['plot_refineboxes']     = case.listboxpopupwindict['listboxtagging'].getitemlist()\n",
    "case.plotDomain(ax=ax2)"
   ]
  },
  {
   "cell_type": "code",
   "execution_count": 16,
   "id": "26727d75-4617-4225-8d92-e949d786bc0d",
   "metadata": {},
   "outputs": [
    {
     "data": {
      "image/png": "[encoded data removed]",
      "text/plain": [
       "<Figure size 1000x750 with 1 Axes>"
      ]
     },
     "metadata": {},
     "output_type": "display_data"
    }
   ],
   "source": [
    "# Plot the domain\n",
    "fig, ax = plt.subplots(figsize=(8,6), facecolor='w', dpi=125)\n",
    "case.popup_storteddata['plotdomain']['plot_chooseview']      = 'YZ'\n",
    "case.popup_storteddata['plotdomain']['plot_refineboxes']     = case.listboxpopupwindict['listboxtagging'].getitemlist()\n",
    "case.popup_storteddata['plotdomain']['plot_sampleprobes']    = [] #case.listboxpopupwindict['listboxsampling'].getitemlist()\n",
    "case.popup_storteddata['plotdomain']['plot_turbines']        = case.listboxpopupwindict['listboxactuator'].getitemlist()\n",
    "case.plotDomain(ax=ax)"
   ]
  },
  {
   "cell_type": "markdown",
   "id": "f9983e0e-fff3-4efa-affc-9b7fae99fcb2",
   "metadata": {},
   "source": [
    "## Add sampling planes"
   ]
  },
  {
   "cell_type": "code",
   "execution_count": 17,
   "id": "4866457f-7a02-492c-9150-9ca3b54a781c",
   "metadata": {},
   "outputs": [
    {
     "name": "stdout",
     "output_type": "stream",
     "text": [
      "[]\n",
      "[]\n"
     ]
    }
   ],
   "source": [
    "# Delete all old sampling planes from precursor\n",
    "case.listboxpopupwindict['listboxsampling'].deleteall()\n",
    "case.listboxpopupwindict['listboxpostprosetup'].deleteall()\n",
    "print(case.listboxpopupwindict['listboxsampling'].getitemlist())\n",
    "print(case.listboxpopupwindict['listboxpostprosetup'].getitemlist())"
   ]
  },
  {
   "cell_type": "code",
   "execution_count": 18,
   "id": "55165896-6022-4a06-90d7-326e229c50f3",
   "metadata": {},
   "outputs": [],
   "source": [
    "samplingcsv=\"\"\"\n",
    "# CSV file should have columns withturbinescsv=\n",
    "# name, type, upstream, downstream, lateral, below, above, n1, n2, options\n",
    "name, type, upstream, downstream, lateral, below, above, n1, n2, options\n",
    "#cl1, centerline, 1,  0, none, none,  none,  11, 11, none\n",
    "#rp1, rotorplane, 2,  0, none, none,  none,  11, 11, none\n",
    "#sw1, streamwise, 2,  1, 1, 0.5,  0.5,  11, 11, usedx:0.25 noffsets:1\n",
    "hh,  hubheight,2280,2280,1000, 0,  none,  11, 11, usedx:10 units:meter center:farm orientation:x outputvars:velocity;tke;temperature outputfreq:10 outputto:hubheight_\n",
    "\"\"\"\n",
    "\n",
    "case.setAMRWindInput('sampling_csvtextbox', samplingcsv)\n",
    "case.setAMRWindInput('sampling_deleteprev', True)"
   ]
  },
  {
   "cell_type": "code",
   "execution_count": 19,
   "id": "c00b7f7c-b3e0-405b-b3b3-3f950463d01e",
   "metadata": {},
   "outputs": [
    {
     "name": "stdout",
     "output_type": "stream",
     "text": [
      "['Farm_hh']\n"
     ]
    }
   ],
   "source": [
    "case.sampling_createAllProbes(verbose=False)\n",
    "# Print out existing list of turbines\n",
    "print(case.listboxpopupwindict['listboxsampling'].getitemlist())"
   ]
  },
  {
   "cell_type": "code",
   "execution_count": 20,
   "id": "84328e61-e132-4002-83ea-45972bda5a94",
   "metadata": {},
   "outputs": [
    {
     "data": {
      "image/png": "[encoded data removed]",
      "text/plain": [
       "<Figure size 1000x750 with 1 Axes>"
      ]
     },
     "metadata": {},
     "output_type": "display_data"
    }
   ],
   "source": [
    "# Plot the domain\n",
    "fig, ax = plt.subplots(figsize=(8,6), facecolor='w', dpi=125)\n",
    "case.popup_storteddata['plotdomain']['plot_chooseview']      = 'XY'\n",
    "case.popup_storteddata['plotdomain']['plot_refineboxes']     = [] #case.listboxpopupwindict['listboxtagging'].getitemlist()\n",
    "case.popup_storteddata['plotdomain']['plot_sampleprobes']    = case.listboxpopupwindict['listboxsampling'].getitemlist()\n",
    "case.popup_storteddata['plotdomain']['plot_turbines']        = case.listboxpopupwindict['listboxactuator'].getitemlist()\n",
    "case.popup_storteddata['plotdomain']['plot_sampleprobes_style'] = \"{'markersize':.1, 'marker':'.', 'linestyle':'None'}\"\n",
    "case.plotDomain(ax=ax)"
   ]
  },
  {
   "cell_type": "markdown",
   "id": "c0e1d59e-44ec-4a30-8804-f809fbd75a53",
   "metadata": {},
   "source": [
    "## Print the input file"
   ]
  },
  {
   "cell_type": "code",
   "execution_count": 21,
   "id": "60e218a5-9386-40b8-82d8-8b2f0233c7e1",
   "metadata": {},
   "outputs": [
    {
     "name": "stdout",
     "output_type": "stream",
     "text": [
      "# --- Simulation time control parameters ---\n",
      "time.stop_time                           = 26900.0             # Max (simulated) time to evolve [s]\n",
      "time.max_step                            = -1                  \n",
      "time.fixed_dt                            = 0.02                # Fixed timestep size (in seconds). If negative, then time.cfl is used\n",
      "time.checkpoint_interval                 = 5000                \n",
      "time.checkpoint_start                    = 65000               \n",
      "incflo.physics                           = ABL Actuator        # List of physics models to include in simulation.\n",
      "incflo.verbose                           = 3                   \n",
      "io.check_file                            = chk                 \n",
      "io.restart_file                          = /lustre/orion/cfd162/scratch/lcheung/ALCC_Frontier_WindFarm/MedWS_LowTI/precursor6_4kmX2km_5m.bndrydata/chk65000\n",
      "incflo.use_godunov                       = true                \n",
      "incflo.godunov_type                      = weno_z              \n",
      "turbulence.model                         = OneEqKsgsM84        \n",
      "TKE.source_terms                         = KsgsM84Src          \n",
      "nodal_proj.mg_rtol                       = 1e-06               \n",
      "nodal_proj.mg_atol                       = 1e-12               \n",
      "mac_proj.mg_rtol                         = 1e-06               \n",
      "mac_proj.mg_atol                         = 1e-12               \n",
      "diffusion.mg_rtol                        = 1e-06               \n",
      "diffusion.mg_atol                        = 1e-12               \n",
      "temperature_diffusion.mg_rtol            = 1e-10               \n",
      "temperature_diffusion.mg_atol            = 1e-13               \n",
      "incflo.gravity                           = 0.0 0.0 -9.81       # Gravitational acceleration vector (x,y,z) [m/s^2]\n",
      "incflo.density                           = 1.2456              # Fluid density [kg/m^3]\n",
      "transport.viscosity                      = 1.771e-05           # Fluid dynamic viscosity [kg/m-s]\n",
      "transport.laminar_prandtl                = 0.7                 # Laminar prandtl number\n",
      "transport.turbulent_prandtl              = 0.3333              # Turbulent prandtl number\n",
      "\n",
      "# --- Geometry and Mesh ---\n",
      "geometry.prob_lo                         = 0.0 0.0 0.0         \n",
      "geometry.prob_hi                         = 4560.0 2000.0 960.0 \n",
      "amr.n_cell                               = 912 400 192         # Number of cells in x, y, and z directions\n",
      "amr.max_level                            = 2                   \n",
      "geometry.is_periodic                     = 0 1 0               \n",
      "xlo.type                                 = mass_inflow         \n",
      "xlo.density                              = 1.2456              \n",
      "xlo.temperature                          = 0.0                 \n",
      "xlo.tke                                  = 0.0                 \n",
      "xhi.type                                 = pressure_outflow    \n",
      "zlo.type                                 = wall_model          \n",
      "zlo.temperature_type                     = wall_model          \n",
      "zlo.tke_type                             = zero_gradient       \n",
      "zhi.type                                 = slip_wall           \n",
      "zhi.temperature_type                     = fixed_gradient      \n",
      "zhi.temperature                          = 0.003               \n",
      "\n",
      "# --- ABL parameters ---\n",
      "ICNS.source_terms                        = BoussinesqBuoyancy CoriolisForcing ActuatorForcing BodyForce ABLMeanBoussinesq\n",
      "ABL.bndry_io_mode                        = 1                   \n",
      "ABL.bndry_file                           = /lustre/orion/cfd162/scratch/lcheung/ALCC_Frontier_WindFarm/MedWS_LowTI/precursor6_4kmX2km_5m.bndrydata/bndry_data\n",
      "ABL.bndry_planes                         = xlo                 \n",
      "ABL.bndry_output_start_time              = 25000.0             \n",
      "ABL.bndry_var_names                      = velocity temperature tke\n",
      "ABL.bndry_output_format                  = native              \n",
      "incflo.velocity                          = 9.03 0.0 0.0        \n",
      "ABLForcing.abl_forcing_height            = 150.0               \n",
      "ABL.kappa                                = 0.4                 \n",
      "ABL.normal_direction                     = 2                   \n",
      "ABL.surface_roughness_z0                 = 0.0005              \n",
      "ABL.reference_temperature                = 284.47              \n",
      "ABL.surface_temp_rate                    = -0.12               \n",
      "ABL.mo_beta_m                            = 16.0                # Monin-Obukhov Beta m parameter\n",
      "ABL.mo_gamma_m                           = 5.0                 # Monin-Obukhov Gamma m parameter\n",
      "ABL.mo_gamma_h                           = 5.0                 # Monin-Obukhov Gamma h parameter\n",
      "ABL.random_gauss_mean                    = 0.0                 \n",
      "ABL.random_gauss_var                     = 1.0                 \n",
      "ABL.wall_shear_stress_type               = local               \n",
      "CoriolisForcing.latitude                 = 39.55               \n",
      "CoriolisForcing.rotational_time_period   = 86164.0900027328    \n",
      "CoriolisForcing.north_vector             = 0.0 1.0 0.0         \n",
      "CoriolisForcing.east_vector              = 1.0 0.0 0.0         \n",
      "BoussinesqBuoyancy.reference_temperature = 284.47              \n",
      "BodyForce.magnitude                      = 0.00014808429120586095 0.0008354164279411971 0.0\n",
      "ABL.temperature_heights                  = 0       500.0  600.0  1024.0\n",
      "ABL.temperature_values                   = 284.47  284.47  292.47  293.742\n",
      "time.plot_interval                       = 8000                \n",
      "io.plot_file                             = plt                 \n",
      "io.KE_int                                = -1                  \n",
      "\n",
      "#---- tagging defs ----\n",
      "tagging.labels                           = Farm_level_0_zone T0_level_1_zone\n",
      "tagging.Farm_level_0_zone.type           = GeometryRefinement  \n",
      "tagging.Farm_level_0_zone.shapes         = Farm_level_0_zone   \n",
      "tagging.Farm_level_0_zone.level          = 0                   \n",
      "tagging.Farm_level_0_zone.Farm_level_0_zone.type = box                 \n",
      "tagging.Farm_level_0_zone.Farm_level_0_zone.origin = 1080.0 280.0 -42.0  \n",
      "tagging.Farm_level_0_zone.Farm_level_0_zone.xaxis = 2400.0 0.0 0.0      \n",
      "tagging.Farm_level_0_zone.Farm_level_0_zone.yaxis = -0.0 1440.0 -0.0    \n",
      "tagging.Farm_level_0_zone.Farm_level_0_zone.zaxis = 0.0 0.0 672.0       \n",
      "tagging.T0_level_1_zone.type             = GeometryRefinement  \n",
      "tagging.T0_level_1_zone.shapes           = T0_level_1_zone     \n",
      "tagging.T0_level_1_zone.level            = 1                   \n",
      "tagging.T0_level_1_zone.T0_level_1_zone.type = box                 \n",
      "tagging.T0_level_1_zone.T0_level_1_zone.origin = 2040.0 760.0 -42.0  \n",
      "tagging.T0_level_1_zone.T0_level_1_zone.xaxis = 480.0 0.0 0.0       \n",
      "tagging.T0_level_1_zone.T0_level_1_zone.yaxis = -0.0 480.0 -0.0     \n",
      "tagging.T0_level_1_zone.T0_level_1_zone.zaxis = 0.0 0.0 432.0       \n",
      "\n",
      "#---- actuator defs ----\n",
      "Actuator.labels                          = T0                  \n",
      "Actuator.T0.type                         = TurbineFastLine     \n",
      "Actuator.T0.openfast_input_file          = T0_OpenFAST3p4_IEA15MW/IEA-15-240-RWT-Monopile/IEA-15-240-RWT-Monopile.fst\n",
      "Actuator.T0.base_position                = 2280.0 1000.0 0.0   \n",
      "Actuator.T0.rotor_diameter               = 240.0               \n",
      "Actuator.T0.hub_height                   = 150.0               \n",
      "Actuator.T0.num_points_blade             = 50                  \n",
      "Actuator.T0.num_points_tower             = 12                  \n",
      "Actuator.T0.epsilon                      = 2.5 2.5 2.5         \n",
      "Actuator.T0.epsilon_tower                = 2.5 2.5 2.5         \n",
      "Actuator.T0.openfast_start_time          = 0.0                 \n",
      "Actuator.T0.openfast_stop_time           = 10000.0             \n",
      "Actuator.T0.fllc                         = false               \n",
      "Actuator.T0.nacelle_drag_coeff           = 0.0                 \n",
      "Actuator.T0.nacelle_area                 = 0.0                 \n",
      "Actuator.T0.yaw                          = 270.0               \n",
      "Actuator.T0.output_frequency             = 10                  \n",
      "Actuator.T0.num_blades                   = 3                   \n",
      "Actuator.T0.use_tip_correction           = true                \n",
      "Actuator.T0.use_root_correction          = true                \n",
      "\n",
      "#---- postprocessing defs ----\n",
      "incflo.post_processing                   = hubheight_          \n",
      "hubheight_.type                          = Sampling            \n",
      "hubheight_.output_frequency              = 10                  \n",
      "hubheight_.fields                        = velocity temperature tke\n",
      "\n",
      "#---- sample defs ----\n",
      "hubheight_.labels                        = Farm_hh             \n",
      "hubheight_.Farm_hh.type                  = PlaneSampler        \n",
      "hubheight_.Farm_hh.num_points            = 457 201             \n",
      "hubheight_.Farm_hh.origin                = 0.0 0.0 150.0       \n",
      "hubheight_.Farm_hh.axis1                 = 4560.0 0.0 0.0      \n",
      "hubheight_.Farm_hh.axis2                 = 0.0 2000.0 0.0      \n",
      "hubheight_.Farm_hh.normal                = 0.0 0.0 0.0         \n",
      "\n",
      "#---- extra params ----\n",
      "#== END AMR-WIND INPUT ==\n",
      "\n"
     ]
    }
   ],
   "source": [
    "# Write the input file\n",
    "inputfile=case.writeAMRWindInput(outputfile)\n",
    "if verbose: print(inputfile)"
   ]
  },
  {
   "cell_type": "markdown",
   "id": "c91fbec4-8b7e-4acc-8a9a-e1db6b899fd7",
   "metadata": {},
   "source": [
    "### Create a version without turbines"
   ]
  },
  {
   "cell_type": "code",
   "execution_count": 22,
   "id": "5d6a9205-d761-4b9f-97ce-b4b209a2fad2",
   "metadata": {},
   "outputs": [
    {
     "name": "stdout",
     "output_type": "stream",
     "text": [
      "# --- Simulation time control parameters ---\n",
      "time.stop_time                           = 26900.0             # Max (simulated) time to evolve [s]\n",
      "time.max_step                            = -1                  \n",
      "time.fixed_dt                            = 0.02                # Fixed timestep size (in seconds). If negative, then time.cfl is used\n",
      "time.checkpoint_interval                 = 5000                \n",
      "time.checkpoint_start                    = 65000               \n",
      "incflo.physics                           = ABL                 # List of physics models to include in simulation.\n",
      "incflo.verbose                           = 3                   \n",
      "io.check_file                            = chk                 \n",
      "io.restart_file                          = /lustre/orion/cfd162/scratch/lcheung/ALCC_Frontier_WindFarm/MedWS_LowTI/precursor6_4kmX2km_5m.bndrydata/chk65000\n",
      "incflo.use_godunov                       = true                \n",
      "incflo.godunov_type                      = weno_z              \n",
      "turbulence.model                         = OneEqKsgsM84        \n",
      "TKE.source_terms                         = KsgsM84Src          \n",
      "nodal_proj.mg_rtol                       = 1e-06               \n",
      "nodal_proj.mg_atol                       = 1e-12               \n",
      "mac_proj.mg_rtol                         = 1e-06               \n",
      "mac_proj.mg_atol                         = 1e-12               \n",
      "diffusion.mg_rtol                        = 1e-06               \n",
      "diffusion.mg_atol                        = 1e-12               \n",
      "temperature_diffusion.mg_rtol            = 1e-10               \n",
      "temperature_diffusion.mg_atol            = 1e-13               \n",
      "incflo.gravity                           = 0.0 0.0 -9.81       # Gravitational acceleration vector (x,y,z) [m/s^2]\n",
      "incflo.density                           = 1.2456              # Fluid density [kg/m^3]\n",
      "transport.viscosity                      = 1.771e-05           # Fluid dynamic viscosity [kg/m-s]\n",
      "transport.laminar_prandtl                = 0.7                 # Laminar prandtl number\n",
      "transport.turbulent_prandtl              = 0.3333              # Turbulent prandtl number\n",
      "\n",
      "# --- Geometry and Mesh ---\n",
      "geometry.prob_lo                         = 0.0 0.0 0.0         \n",
      "geometry.prob_hi                         = 4560.0 2000.0 960.0 \n",
      "amr.n_cell                               = 912 400 192         # Number of cells in x, y, and z directions\n",
      "amr.max_level                            = 2                   \n",
      "geometry.is_periodic                     = 0 1 0               \n",
      "xlo.type                                 = mass_inflow         \n",
      "xlo.density                              = 1.2456              \n",
      "xlo.temperature                          = 0.0                 \n",
      "xlo.tke                                  = 0.0                 \n",
      "xhi.type                                 = pressure_outflow    \n",
      "zlo.type                                 = wall_model          \n",
      "zlo.temperature_type                     = wall_model          \n",
      "zlo.tke_type                             = zero_gradient       \n",
      "zhi.type                                 = slip_wall           \n",
      "zhi.temperature_type                     = fixed_gradient      \n",
      "zhi.temperature                          = 0.003               \n",
      "\n",
      "# --- ABL parameters ---\n",
      "ICNS.source_terms                        = BoussinesqBuoyancy CoriolisForcing BodyForce ABLMeanBoussinesq\n",
      "ABL.bndry_io_mode                        = 1                   \n",
      "ABL.bndry_file                           = /lustre/orion/cfd162/scratch/lcheung/ALCC_Frontier_WindFarm/MedWS_LowTI/precursor6_4kmX2km_5m.bndrydata/bndry_data\n",
      "ABL.bndry_planes                         = xlo                 \n",
      "ABL.bndry_output_start_time              = 25000.0             \n",
      "ABL.bndry_var_names                      = velocity temperature tke\n",
      "ABL.bndry_output_format                  = native              \n",
      "incflo.velocity                          = 9.03 0.0 0.0        \n",
      "ABLForcing.abl_forcing_height            = 150.0               \n",
      "ABL.kappa                                = 0.4                 \n",
      "ABL.normal_direction                     = 2                   \n",
      "ABL.surface_roughness_z0                 = 0.0005              \n",
      "ABL.reference_temperature                = 284.47              \n",
      "ABL.surface_temp_rate                    = -0.12               \n",
      "ABL.mo_beta_m                            = 16.0                # Monin-Obukhov Beta m parameter\n",
      "ABL.mo_gamma_m                           = 5.0                 # Monin-Obukhov Gamma m parameter\n",
      "ABL.mo_gamma_h                           = 5.0                 # Monin-Obukhov Gamma h parameter\n",
      "ABL.random_gauss_mean                    = 0.0                 \n",
      "ABL.random_gauss_var                     = 1.0                 \n",
      "ABL.wall_shear_stress_type               = local               \n",
      "CoriolisForcing.latitude                 = 39.55               \n",
      "CoriolisForcing.rotational_time_period   = 86164.0900027328    \n",
      "CoriolisForcing.north_vector             = 0.0 1.0 0.0         \n",
      "CoriolisForcing.east_vector              = 1.0 0.0 0.0         \n",
      "BoussinesqBuoyancy.reference_temperature = 284.47              \n",
      "BodyForce.magnitude                      = 0.00014808429120586095 0.0008354164279411971 0.0\n",
      "ABL.temperature_heights                  = 0       500.0  600.0  1024.0\n",
      "ABL.temperature_values                   = 284.47  284.47  292.47  293.742\n",
      "time.plot_interval                       = 8000                \n",
      "io.plot_file                             = plt                 \n",
      "io.KE_int                                = -1                  \n",
      "\n",
      "#---- tagging defs ----\n",
      "tagging.labels                           = Farm_level_0_zone T0_level_1_zone\n",
      "tagging.Farm_level_0_zone.type           = GeometryRefinement  \n",
      "tagging.Farm_level_0_zone.shapes         = Farm_level_0_zone   \n",
      "tagging.Farm_level_0_zone.level          = 0                   \n",
      "tagging.Farm_level_0_zone.Farm_level_0_zone.type = box                 \n",
      "tagging.Farm_level_0_zone.Farm_level_0_zone.origin = 1080.0 280.0 -42.0  \n",
      "tagging.Farm_level_0_zone.Farm_level_0_zone.xaxis = 2400.0 0.0 0.0      \n",
      "tagging.Farm_level_0_zone.Farm_level_0_zone.yaxis = -0.0 1440.0 -0.0    \n",
      "tagging.Farm_level_0_zone.Farm_level_0_zone.zaxis = 0.0 0.0 672.0       \n",
      "tagging.T0_level_1_zone.type             = GeometryRefinement  \n",
      "tagging.T0_level_1_zone.shapes           = T0_level_1_zone     \n",
      "tagging.T0_level_1_zone.level            = 1                   \n",
      "tagging.T0_level_1_zone.T0_level_1_zone.type = box                 \n",
      "tagging.T0_level_1_zone.T0_level_1_zone.origin = 2040.0 760.0 -42.0  \n",
      "tagging.T0_level_1_zone.T0_level_1_zone.xaxis = 480.0 0.0 0.0       \n",
      "tagging.T0_level_1_zone.T0_level_1_zone.yaxis = -0.0 480.0 -0.0     \n",
      "tagging.T0_level_1_zone.T0_level_1_zone.zaxis = 0.0 0.0 432.0       \n",
      "\n",
      "#---- postprocessing defs ----\n",
      "incflo.post_processing                   = hubheight_          \n",
      "hubheight_.type                          = Sampling            \n",
      "hubheight_.output_frequency              = 10                  \n",
      "hubheight_.fields                        = velocity temperature tke\n",
      "\n",
      "#---- sample defs ----\n",
      "hubheight_.labels                        = Farm_hh             \n",
      "hubheight_.Farm_hh.type                  = PlaneSampler        \n",
      "hubheight_.Farm_hh.num_points            = 457 201             \n",
      "hubheight_.Farm_hh.origin                = 0.0 0.0 150.0       \n",
      "hubheight_.Farm_hh.axis1                 = 4560.0 0.0 0.0      \n",
      "hubheight_.Farm_hh.axis2                 = 0.0 2000.0 0.0      \n",
      "hubheight_.Farm_hh.normal                = 0.0 0.0 0.0         \n",
      "\n",
      "#---- extra params ----\n",
      "#== END AMR-WIND INPUT ==\n",
      "\n"
     ]
    }
   ],
   "source": [
    "os.chdir(cwd)\n",
    "case.removeturbines()\n",
    "inputfile=case.writeAMRWindInput(noturboutputfile)\n",
    "if verbose: print(inputfile)"
   ]
  },
  {
   "cell_type": "code",
   "execution_count": null,
   "id": "d4251655-feaa-4506-ba11-b51015938e7a",
   "metadata": {},
   "outputs": [],
   "source": []
  },
  {
   "cell_type": "code",
   "execution_count": null,
   "id": "bdbec2cf-46ee-48f4-b79a-fdbbbb3b1174",
   "metadata": {},
   "outputs": [],
   "source": []
  }
 ],
 "metadata": {
  "kernelspec": {
   "display_name": "Python 3 (ipykernel)",
   "language": "python",
   "name": "python3"
  },
  "language_info": {
   "codemirror_mode": {
    "name": "ipython",
    "version": 3
   },
   "file_extension": ".py",
   "mimetype": "text/x-python",
   "name": "python",
   "nbconvert_exporter": "python",
   "pygments_lexer": "ipython3",
   "version": "3.9.13"
  }
 },
 "nbformat": 4,
 "nbformat_minor": 5
}
